{
 "cells": [
  {
   "cell_type": "code",
   "execution_count": 1,
   "metadata": {},
   "outputs": [],
   "source": [
    "from sqlalchemy import create_engine\n",
    "from sqlalchemy.orm import sessionmaker\n",
    "\n",
    "engine = create_engine(\"sqlite:///./app/connection/test.db\", echo=False)\n",
    "SessionLocal = sessionmaker(autocommit=False, autoflush=False, bind=engine)\n",
    "session = SessionLocal()"
   ]
  },
  {
   "cell_type": "code",
   "execution_count": 2,
   "metadata": {},
   "outputs": [],
   "source": [
    "import numpy as np\n",
    "from app.services.kor_fs_service import KorFsService\n",
    "from app.services.kor_value_service import KorValueService\n",
    "\n",
    "\n",
    "kor_fs_service = KorFsService(session)\n",
    "kor_value_service = KorValueService(session)\n",
    "\n",
    "fs_list = kor_fs_service.get_fs(\"y\", [\"매출총이익\", \"자산\"])\n",
    "value_list = kor_value_service.get_values_by_metrics(\"PBR\", isDf=True)"
   ]
  },
  {
   "cell_type": "code",
   "execution_count": 8,
   "metadata": {},
   "outputs": [],
   "source": [
    "# 벨류지표\n",
    "value_list.loc[value_list[\"amt\"] < 0, \"amt\"] = np.nan\n",
    "value_pivot = value_list.pivot(index=\"itemCd\", columns=\"metrics\", values=\"amt\")\n",
    "\n",
    "# 퀄리티 지표\n",
    "fs_list = fs_list.sort_values([\"itemCd\", \"account\", \"baseDt\"])\n",
    "fs_list = fs_list.groupby([\"itemCd\", \"account\"]).tail(1)\n",
    "fs_list_pivot = fs_list.pivot(index=\"itemCd\", columns=\"account\", values=\"amt\")\n",
    "fs_list_pivot[\"GPA\"] = fs_list_pivot[\"매출총이익\"] / fs_list_pivot[\"자산\"]\n",
    "\n",
    "# 데이터 합치기\n",
    "bind_rank = (\n",
    "    value_pivot[\"PBR\"]\n",
    "    .rank()\n",
    "    .to_frame()\n",
    "    .merge(\n",
    "        fs_list_pivot[\"GPA\"].rank(ascending=False),\n",
    "        how=\"inner\",\n",
    "        on=\"itemCd\",\n",
    "    )\n",
    ")\n",
    "\n",
    "# 상관관계\n",
    "bind_rank.corr()\n",
    "\"\"\"\n",
    "음의 상관관계\n",
    "\tPBR\t        GPA\n",
    "PBR\t1.000000\t-0.087968\n",
    "GPA\t-0.087968\t1.000000\n",
    "\"\"\""
   ]
  },
  {
   "cell_type": "code",
   "execution_count": 9,
   "metadata": {},
   "outputs": [],
   "source": [
    "# PBR의 분위수 별 GPA의 평균 계산"
   ]
  },
  {
   "cell_type": "code",
   "execution_count": 10,
   "metadata": {},
   "outputs": [
    {
     "data": {
      "text/html": [
       "<div>\n",
       "<style scoped>\n",
       "    .dataframe tbody tr th:only-of-type {\n",
       "        vertical-align: middle;\n",
       "    }\n",
       "\n",
       "    .dataframe tbody tr th {\n",
       "        vertical-align: top;\n",
       "    }\n",
       "\n",
       "    .dataframe thead th {\n",
       "        text-align: right;\n",
       "    }\n",
       "</style>\n",
       "<table border=\"1\" class=\"dataframe\">\n",
       "  <thead>\n",
       "    <tr style=\"text-align: right;\">\n",
       "      <th></th>\n",
       "      <th>PBR</th>\n",
       "      <th>GPA</th>\n",
       "    </tr>\n",
       "  </thead>\n",
       "  <tbody>\n",
       "    <tr>\n",
       "      <th>PBR</th>\n",
       "      <td>1.000000</td>\n",
       "      <td>-0.087968</td>\n",
       "    </tr>\n",
       "    <tr>\n",
       "      <th>GPA</th>\n",
       "      <td>-0.087968</td>\n",
       "      <td>1.000000</td>\n",
       "    </tr>\n",
       "  </tbody>\n",
       "</table>\n",
       "</div>"
      ],
      "text/plain": [
       "          PBR       GPA\n",
       "PBR  1.000000 -0.087968\n",
       "GPA -0.087968  1.000000"
      ]
     },
     "execution_count": 10,
     "metadata": {},
     "output_type": "execute_result"
    }
   ],
   "source": []
  }
 ],
 "metadata": {
  "language_info": {
   "name": "python"
  }
 },
 "nbformat": 4,
 "nbformat_minor": 2
}
