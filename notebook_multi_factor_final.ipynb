{
 "cells": [
  {
   "cell_type": "code",
   "execution_count": null,
   "metadata": {},
   "outputs": [],
   "source": [
    "from sqlalchemy import create_engine\n",
    "from sqlalchemy.orm import sessionmaker\n",
    "\n",
    "engine = create_engine(\"sqlite:///./app/connection/test.db\", echo=False)\n",
    "SessionLocal = sessionmaker(autocommit=False, autoflush=False, bind=engine)\n",
    "session = SessionLocal()"
   ]
  },
  {
   "cell_type": "code",
   "execution_count": null,
   "metadata": {},
   "outputs": [],
   "source": [
    "from app.services.kor_value_service import KorValueService\n",
    "\n",
    "\n",
    "kor_value_service = KorValueService(session)\n",
    "value_list = kor_value_service.get_values(isDf=True)"
   ]
  },
  {
   "cell_type": "code",
   "execution_count": null,
   "metadata": {},
   "outputs": [],
   "source": [
    "# 밸류 지표 히스토그램\n",
    "value_pivot = value_list.pivot(index=\"itemCd\", columns=\"metrics\", values=\"amt\")\n",
    "value_rank = value_pivot.rank(axis=0)"
   ]
  },
  {
   "cell_type": "code",
   "execution_count": null,
   "metadata": {},
   "outputs": [],
   "source": [
    "import matplotlib.pyplot as plt\n",
    "\n",
    "fig, axes = plt.subplots(5, 1, figsize=(10, 6), sharex=True)\n",
    "for n, ax in enumerate(axes.flatten()):\n",
    "    ax.hist(value_rank.iloc[:, n])\n",
    "    ax.set_title(value_rank.columns[n], size=12)"
   ]
  },
  {
   "cell_type": "code",
   "execution_count": null,
   "metadata": {},
   "outputs": [],
   "source": [
    "value_pivot.isna().sum()"
   ]
  },
  {
   "cell_type": "code",
   "execution_count": null,
   "metadata": {},
   "outputs": [],
   "source": [
    "# 랭킹을 구한 후 z-scoe로 정규화\n",
    "\n",
    "from scipy.stats import zscore\n",
    "\n",
    "value_rank_z = value_rank.apply(zscore, nan_policy=\"omit\")"
   ]
  },
  {
   "cell_type": "code",
   "execution_count": null,
   "metadata": {},
   "outputs": [],
   "source": [
    "fig, axes = plt.subplots(5, 1, figsize=(10, 6), sharex=True, sharey=True)\n",
    "for n, ax in enumerate(axes.flatten()):\n",
    "    ax.hist(value_rank_z.iloc[:, n])\n",
    "    ax.set_title(value_rank.columns[n], size=12)"
   ]
  },
  {
   "cell_type": "code",
   "execution_count": null,
   "metadata": {},
   "outputs": [],
   "source": [
    "# 멀티팩터\n",
    "from app.services.portfolio_services.multi_factor_portfolio_service import (\n",
    "    MultiFactorPortfolioService,\n",
    "    OutlierMethod,\n",
    ")\n",
    "\n",
    "\n",
    "multi_factor_portfolio_service = MultiFactorPortfolioService(session)\n",
    "final_portifolio = multi_factor_portfolio_service.get_final_portfolio(\n",
    "    method=OutlierMethod.TRIM\n",
    ")"
   ]
  },
  {
   "cell_type": "code",
   "execution_count": null,
   "metadata": {},
   "outputs": [],
   "source": [
    "data_bind_final = multi_factor_portfolio_service._data_bind_final\n",
    "data_bind = multi_factor_portfolio_service._data_bind"
   ]
  },
  {
   "cell_type": "code",
   "execution_count": null,
   "metadata": {},
   "outputs": [],
   "source": [
    "final_portifolio[final_portifolio[\"invest\"] == \"Y\"]"
   ]
  },
  {
   "cell_type": "code",
   "execution_count": null,
   "metadata": {},
   "outputs": [],
   "source": [
    "# 그래프\n",
    "multi_factor_portfolio_service.paint_graph(\n",
    "    data_bind[[\"z_quality\", \"z_value\", \"z_momentum\"]]\n",
    ")"
   ]
  },
  {
   "cell_type": "code",
   "execution_count": null,
   "metadata": {},
   "outputs": [],
   "source": [
    "# 그래프\n",
    "multi_factor_portfolio_service.paint_graph(data_bind_final)"
   ]
  }
 ],
 "metadata": {
  "kernelspec": {
   "display_name": "env",
   "language": "python",
   "name": "python3"
  },
  "language_info": {
   "codemirror_mode": {
    "name": "ipython",
    "version": 3
   },
   "file_extension": ".py",
   "mimetype": "text/x-python",
   "name": "python",
   "nbconvert_exporter": "python",
   "pygments_lexer": "ipython3",
   "version": "3.12.7"
  }
 },
 "nbformat": 4,
 "nbformat_minor": 2
}
