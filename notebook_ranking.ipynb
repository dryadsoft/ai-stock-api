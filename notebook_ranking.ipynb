{
 "cells": [
  {
   "cell_type": "code",
   "execution_count": 1,
   "metadata": {},
   "outputs": [],
   "source": [
    "from sqlalchemy import create_engine\n",
    "from sqlalchemy.orm import sessionmaker\n",
    "\n",
    "engine = create_engine(\"sqlite:///./app/connection/test.db\", echo=False)\n",
    "SessionLocal = sessionmaker(autocommit=False, autoflush=False, bind=engine)\n",
    "session = SessionLocal()"
   ]
  },
  {
   "cell_type": "code",
   "execution_count": 2,
   "metadata": {},
   "outputs": [],
   "source": [
    "from app.services.portfolio_services.momentum_portfolio_service import MomentumPortfolio\n",
    "from app.services.portfolio_services.quality_portfolio_service import (\n",
    "    QualityPortfolioService,\n",
    ")\n",
    "from app.services.portfolio_services.value_portfolio_service import ValuePortfolio\n",
    "from app.services.portfolio_services.sector_neural_portfolio_service import (\n",
    "    SectorNeuralPortfolioService,\n",
    ")\n",
    "from app.services.portfolio_services.multi_factor_portfolio_service import (\n",
    "    MultiFactorPortfolioService,\n",
    "    OutlierMethod,\n",
    ")\n",
    "\n",
    "quality_portfilio_service = QualityPortfolioService(session)\n",
    "momentum_portfolio_service = MomentumPortfolio(session)\n",
    "value_portfolio_service = ValuePortfolio(session)\n",
    "sector_neural_portfolio_service = SectorNeuralPortfolioService(session)\n",
    "multi_factor_portfolio_service = MultiFactorPortfolioService(session)"
   ]
  },
  {
   "cell_type": "code",
   "execution_count": 3,
   "metadata": {},
   "outputs": [],
   "source": [
    "quality_rank_top_10 = quality_portfilio_service.get_quality_momentum(rank=10)\n",
    "\n",
    "momentum_rank_top_10 = momentum_portfolio_service.get_momentum_rank(\n",
    "    type=\"k_ratio\", rank=10\n",
    ")\n",
    "value_rank_top_10 = value_portfolio_service.get_value_portfolio_by_all(rank=10)\n",
    "\n",
    "sector_zscore_rank_top_10, sector_zscore_top_rank = (\n",
    "    sector_neural_portfolio_service.get_sector_z_score(rank=10)\n",
    ")\n",
    "sector_rank_top_10, sector_rank_top_rank = (\n",
    "    sector_neural_portfolio_service.get_sector_data(rank=10)\n",
    ")\n",
    "\n",
    "multi_winser_top_10 = multi_factor_portfolio_service.get_final_rank(\n",
    "    method=OutlierMethod.WINSER, rank=10\n",
    ")\n",
    "multi_trim_top_10 = multi_factor_portfolio_service.get_final_rank(\n",
    "    method=OutlierMethod.TRIM, rank=10\n",
    ")"
   ]
  }
 ],
 "metadata": {
  "kernelspec": {
   "display_name": "env",
   "language": "python",
   "name": "python3"
  },
  "language_info": {
   "codemirror_mode": {
    "name": "ipython",
    "version": 3
   },
   "file_extension": ".py",
   "mimetype": "text/x-python",
   "name": "python",
   "nbconvert_exporter": "python",
   "pygments_lexer": "ipython3",
   "version": "3.12.6"
  }
 },
 "nbformat": 4,
 "nbformat_minor": 2
}
