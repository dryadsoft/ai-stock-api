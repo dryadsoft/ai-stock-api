{
 "cells": [
  {
   "cell_type": "code",
   "execution_count": 3,
   "metadata": {},
   "outputs": [],
   "source": [
    "from sqlalchemy import create_engine\n",
    "from sqlalchemy.orm import sessionmaker\n",
    "\n",
    "engine = create_engine(\"sqlite:///./app/connection/test.db\", echo=False)\n",
    "SessionLocal = sessionmaker(autocommit=False, autoflush=False, bind=engine)\n",
    "session = SessionLocal()"
   ]
  },
  {
   "cell_type": "code",
   "execution_count": 4,
   "metadata": {},
   "outputs": [],
   "source": [
    "# 이상치 데이터 처리방법\n",
    "from app.services.kor_value_service import KorValueService\n",
    "\n",
    "\n",
    "kor_value_service = KorValueService(session)\n",
    "value_list = kor_value_service.get_values(isDf=True)"
   ]
  },
  {
   "cell_type": "code",
   "execution_count": 5,
   "metadata": {},
   "outputs": [],
   "source": [
    "value_pbr = value_list[value_list[\"metrics\"] == \"PBR\"]"
   ]
  },
  {
   "cell_type": "code",
   "execution_count": null,
   "metadata": {},
   "outputs": [],
   "source": [
    "print(value_pbr[\"amt\"].max(), \"\\n\", value_pbr[\"amt\"].min())"
   ]
  },
  {
   "cell_type": "code",
   "execution_count": null,
   "metadata": {},
   "outputs": [],
   "source": [
    "import matplotlib.pyplot as plt\n",
    "\n",
    "value_pbr[\"amt\"].plot.hist(bins=100, figsize=(10, 6))"
   ]
  },
  {
   "cell_type": "code",
   "execution_count": null,
   "metadata": {},
   "outputs": [],
   "source": [
    "# quantile 분위수에 해당하는 값을 찾아줌( 0.01에 해당하는 값)\n",
    "q_low = value_pbr[\"amt\"].quantile(0.01)\n",
    "q_high = value_pbr[\"amt\"].quantile(0.99)"
   ]
  },
  {
   "cell_type": "code",
   "execution_count": null,
   "metadata": {},
   "outputs": [],
   "source": [
    "# trim: 극단치 제거\n",
    "# 평균이나 분산 같이 통계값을 구하는 과정에서는 이상치 데이터를 제거하는 것이 바람직할 수 있음.\n",
    "# 팩터를 이용해 포트폴리오를 구하는 과정에서는 트림방법은 조심스럽게 사용되어야함. 데이터의 손실이 발생하기도 하며, 제거된 종목 중 정말로 좋은 종목이 있을 수도 있기 때문\n",
    "\n",
    "#\n",
    "value_trim = value_pbr.loc[\n",
    "    (value_pbr[\"amt\"] > q_low) & (value_pbr[\"amt\"] < q_high), [\"amt\"]\n",
    "]\n",
    "\n",
    "value_trim.plot.hist(figsize=(10, 6), bins=100, legend=False)"
   ]
  },
  {
   "cell_type": "code",
   "execution_count": null,
   "metadata": {},
   "outputs": [],
   "source": [
    "# 윈저라이징: 이상치 데이터를 다른 데이터로 대체\n",
    "value_winsor = value_pbr[[\"amt\"]].copy()\n",
    "value_winsor.loc[value_winsor[\"amt\"] < q_low, \"amt\"] = q_low\n",
    "value_winsor.loc[value_winsor[\"amt\"] > q_high, \"amt\"] = q_high\n",
    "\n",
    "fig, ax = plt.subplots(figsize=(10, 6))\n",
    "n, bins, patches = plt.hist(value_winsor, bins=100)"
   ]
  }
 ],
 "metadata": {
  "language_info": {
   "name": "python"
  }
 },
 "nbformat": 4,
 "nbformat_minor": 2
}
