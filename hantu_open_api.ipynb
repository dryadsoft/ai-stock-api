{
 "cells": [
  {
   "cell_type": "code",
   "execution_count": null,
   "metadata": {},
   "outputs": [],
   "source": [
    "from app.services.hantu_services.auth_service import AuthService\n",
    "\n",
    "\n",
    "auth_service = AuthService()\n",
    "# access token 발급\n",
    "access_token = auth_service.get_access_token()"
   ]
  },
  {
   "cell_type": "code",
   "execution_count": 5,
   "metadata": {},
   "outputs": [],
   "source": [
    "from app.services.hantu_services.quotations_service import QuotationsService\n",
    "\n",
    "\n",
    "quotations_service = QuotationsService(access_token)"
   ]
  },
  {
   "cell_type": "markdown",
   "metadata": {},
   "source": []
  },
  {
   "cell_type": "code",
   "execution_count": null,
   "metadata": {},
   "outputs": [],
   "source": [
    "# 주식현재가 시세\n",
    "inquire_price_res = quotations_service.inquire_price(\"005930\")"
   ]
  },
  {
   "cell_type": "code",
   "execution_count": null,
   "metadata": {},
   "outputs": [],
   "source": [
    "print(\n",
    "    inquire_price_res[\"stck_prpr\"],  # 주식 현재가\n",
    "    inquire_price_res[\"prdy_vrss\"],  # 전일대비\n",
    "    inquire_price_res[\"prdy_ctrt\"],  # 전일대비율\n",
    "    inquire_price_res[\n",
    "        \"prdy_vrss_sign\"\n",
    "    ],  # 전일 대비 부호 1: 상한, 2: 상승, 3: 보합, 4: 하한, 5: 하락\n",
    "    inquire_price_res[\"stck_oprc\"],  # 주식 시가\n",
    "    inquire_price_res[\"stck_hgpr\"],  # 주식 최고가\n",
    "    inquire_price_res[\"stck_lwpr\"],  # 주식 최저가\n",
    "    inquire_price_res[\"stck_mxpr\"],  # 주식 상한가\n",
    "    inquire_price_res[\"stck_llam\"],  # 주식 하한가\n",
    "    inquire_price_res[\"stck_sdpr\"],  # 주식 기준가\n",
    "    inquire_price_res[\n",
    "        \"mrkt_warn_cls_code\"\n",
    "    ],  # 시장경고코드 00: 없음, 01: 투자주의, 02: 투자경고, 03: 투자위험\n",
    ")"
   ]
  },
  {
   "cell_type": "code",
   "execution_count": 8,
   "metadata": {},
   "outputs": [],
   "source": [
    "from app.services.hantu_services.trading_service import TradingService\n",
    "\n",
    "\n",
    "trading_service = TradingService(access_token)"
   ]
  },
  {
   "cell_type": "code",
   "execution_count": 9,
   "metadata": {},
   "outputs": [],
   "source": [
    "# 주식주문(현금)\n",
    "order_cash_res = trading_service.order_cash(\"005930\", \"1\", \"40000\")"
   ]
  },
  {
   "cell_type": "code",
   "execution_count": null,
   "metadata": {},
   "outputs": [],
   "source": [
    "# 주식일별주문체결조회\n",
    "inquire_daily_ccld_res = trading_service.inquire_daily_ccld()\n",
    "print(inquire_daily_ccld_res)\n",
    "# inquire_daily_ccld_res[0][\"odno\"]  # 주문번호"
   ]
  },
  {
   "cell_type": "code",
   "execution_count": null,
   "metadata": {},
   "outputs": [],
   "source": [
    "def filter_ticker(obj):\n",
    "    return True if obj[\"pdno\"] == \"005930\" else False\n",
    "\n",
    "\n",
    "filtered_list = list(filter(filter_ticker, inquire_daily_ccld_res))\n",
    "\n",
    "if len(filtered_list) > 0:\n",
    "    # 주식주문(정정취소)\n",
    "    order_rvsenclcl_res = trading_service.order_rvsecncl(filtered_list[0][\"odno\"])\n",
    "    print(order_rvsenclcl_res[\"msg_cd\"], order_rvsenclcl_res[\"msg1\"])\n",
    "else:\n",
    "    print(\"주문번호가 존재하지 않습니다.\")"
   ]
  },
  {
   "cell_type": "code",
   "execution_count": 2,
   "metadata": {},
   "outputs": [],
   "source": [
    "from sqlalchemy import create_engine\n",
    "from sqlalchemy.orm import sessionmaker\n",
    "\n",
    "engine = create_engine(\"sqlite:///./app/connection/test.db\", echo=False)\n",
    "SessionLocal = sessionmaker(autocommit=False, autoflush=False, bind=engine)\n",
    "session = SessionLocal()"
   ]
  },
  {
   "cell_type": "code",
   "execution_count": null,
   "metadata": {},
   "outputs": [],
   "source": [
    "import pandas as pd\n",
    "from sqlalchemy import func\n",
    "from app.entities.kor_ticker_entity import KorTickerEntity\n",
    "\n",
    "\n",
    "max_subquery = session.query(func.max(KorTickerEntity.baseDt))\n",
    "query_set = session.query(KorTickerEntity).filter(\n",
    "    KorTickerEntity.baseDt == max_subquery.scalar_subquery(),\n",
    "    KorTickerEntity.itemCtg == \"보통주\",\n",
    ")\n",
    "df = pd.read_sql(query_set.statement, query_set.session.bind)"
   ]
  },
  {
   "cell_type": "code",
   "execution_count": 8,
   "metadata": {},
   "outputs": [],
   "source": [
    "# 시총 작은 순위로 20개 정렬\n",
    "df_rank = df[\"mrktTotAmt\"].rank(axis=0, ascending=True)\n",
    "result = df[df_rank < 20].sort_values(by=[\"mrktTotAmt\"], ascending=True)"
   ]
  },
  {
   "cell_type": "code",
   "execution_count": null,
   "metadata": {},
   "outputs": [],
   "source": [
    "result"
   ]
  }
 ],
 "metadata": {
  "kernelspec": {
   "display_name": "env",
   "language": "python",
   "name": "python3"
  },
  "language_info": {
   "codemirror_mode": {
    "name": "ipython",
    "version": 3
   },
   "file_extension": ".py",
   "mimetype": "text/x-python",
   "name": "python",
   "nbconvert_exporter": "python",
   "pygments_lexer": "ipython3",
   "version": "3.12.8"
  }
 },
 "nbformat": 4,
 "nbformat_minor": 2
}
