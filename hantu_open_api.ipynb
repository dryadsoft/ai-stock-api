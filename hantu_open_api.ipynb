{
 "cells": [
  {
   "cell_type": "code",
   "execution_count": null,
   "metadata": {},
   "outputs": [],
   "source": [
    "from app.services.hantu_services.auth_service import AuthService\n",
    "\n",
    "\n",
    "auth_service = AuthService()\n",
    "# access token 발급\n",
    "access_token = auth_service.get_access_token()"
   ]
  },
  {
   "cell_type": "code",
   "execution_count": 5,
   "metadata": {},
   "outputs": [],
   "source": [
    "from app.services.hantu_services.quotations_service import QuotationsService\n",
    "\n",
    "\n",
    "quotations_service = QuotationsService(access_token)"
   ]
  },
  {
   "cell_type": "markdown",
   "metadata": {},
   "source": []
  },
  {
   "cell_type": "code",
   "execution_count": null,
   "metadata": {},
   "outputs": [],
   "source": [
    "# 주식현재가 시세\n",
    "inquire_price_res = quotations_service.inquire_price(\"005930\")"
   ]
  },
  {
   "cell_type": "code",
   "execution_count": null,
   "metadata": {},
   "outputs": [],
   "source": [
    "print(\n",
    "    inquire_price_res[\"stck_prpr\"],  # 주식 현재가\n",
    "    inquire_price_res[\"prdy_vrss\"],  # 전일대비\n",
    "    inquire_price_res[\"prdy_ctrt\"],  # 전일대비율\n",
    "    inquire_price_res[\n",
    "        \"prdy_vrss_sign\"\n",
    "    ],  # 전일 대비 부호 1: 상한, 2: 상승, 3: 보합, 4: 하한, 5: 하락\n",
    "    inquire_price_res[\"stck_oprc\"],  # 주식 시가\n",
    "    inquire_price_res[\"stck_hgpr\"],  # 주식 최고가\n",
    "    inquire_price_res[\"stck_lwpr\"],  # 주식 최저가\n",
    "    inquire_price_res[\"stck_mxpr\"],  # 주식 상한가\n",
    "    inquire_price_res[\"stck_llam\"],  # 주식 하한가\n",
    "    inquire_price_res[\"stck_sdpr\"],  # 주식 기준가\n",
    "    inquire_price_res[\n",
    "        \"mrkt_warn_cls_code\"\n",
    "    ],  # 시장경고코드 00: 없음, 01: 투자주의, 02: 투자경고, 03: 투자위험\n",
    ")"
   ]
  },
  {
   "cell_type": "code",
   "execution_count": 8,
   "metadata": {},
   "outputs": [],
   "source": [
    "from app.services.hantu_services.trading_service import TradingService\n",
    "\n",
    "\n",
    "trading_service = TradingService(access_token)"
   ]
  },
  {
   "cell_type": "code",
   "execution_count": 9,
   "metadata": {},
   "outputs": [],
   "source": [
    "# 주식주문(현금)\n",
    "order_cash_res = trading_service.order_cash(\"005930\", \"1\", \"40000\")"
   ]
  },
  {
   "cell_type": "code",
   "execution_count": null,
   "metadata": {},
   "outputs": [],
   "source": [
    "# 주식일별주문체결조회\n",
    "inquire_daily_ccld_res = trading_service.inquire_daily_ccld()\n",
    "print(inquire_daily_ccld_res)\n",
    "# inquire_daily_ccld_res[0][\"odno\"]  # 주문번호"
   ]
  },
  {
   "cell_type": "code",
   "execution_count": null,
   "metadata": {},
   "outputs": [],
   "source": [
    "def filter_ticker(obj):\n",
    "    return True if obj[\"pdno\"] == \"005930\" else False\n",
    "\n",
    "\n",
    "filtered_list = list(filter(filter_ticker, inquire_daily_ccld_res))\n",
    "\n",
    "if len(filtered_list) > 0:\n",
    "    # 주식주문(정정취소)\n",
    "    order_rvsenclcl_res = trading_service.order_rvsecncl(filtered_list[0][\"odno\"])\n",
    "    print(order_rvsenclcl_res[\"msg_cd\"], order_rvsenclcl_res[\"msg1\"])\n",
    "else:\n",
    "    print(\"주문번호가 존재하지 않습니다.\")"
   ]
  },
  {
   "cell_type": "code",
   "execution_count": 1,
   "metadata": {},
   "outputs": [],
   "source": [
    "from sqlalchemy import create_engine\n",
    "from sqlalchemy.orm import sessionmaker\n",
    "\n",
    "engine = create_engine(\"sqlite:///./app/connection/test.db\", echo=False)\n",
    "SessionLocal = sessionmaker(autocommit=False, autoflush=False, bind=engine)\n",
    "session = SessionLocal()"
   ]
  },
  {
   "cell_type": "code",
   "execution_count": 6,
   "metadata": {},
   "outputs": [],
   "source": [
    "import pandas as pd\n",
    "from sqlalchemy import func\n",
    "from app.entities.kor_ticker_entity import KorTickerEntity\n",
    "\n",
    "\n",
    "max_subquery = session.query(func.max(KorTickerEntity.baseDt))\n",
    "query_set = session.query(KorTickerEntity).filter(\n",
    "    KorTickerEntity.baseDt == max_subquery.scalar_subquery(),\n",
    "    KorTickerEntity.itemCtg == \"보통주\",\n",
    ")\n",
    "df = pd.read_sql(query_set.statement, query_set.session.bind)"
   ]
  },
  {
   "cell_type": "code",
   "execution_count": 3,
   "metadata": {},
   "outputs": [],
   "source": [
    "# 시총 작은 순위로 20개 정렬\n",
    "df_rank = df[\"mrktTotAmt\"].rank(axis=0, ascending=True)\n",
    "result = df[df_rank < 20].sort_values(by=[\"mrktTotAmt\"], ascending=True)"
   ]
  },
  {
   "cell_type": "code",
   "execution_count": 2,
   "metadata": {},
   "outputs": [],
   "source": [
    "import pandas as pd\n",
    "\n",
    "from app.services.kor_price_service import KorPriceService\n",
    "\n",
    "\n",
    "kor_price_service = KorPriceService(session)\n",
    "price_df = kor_price_service.get_year_price(is_df=True)\n",
    "price_df[\"baseDt\"] = pd.to_datetime(price_df[\"baseDt\"])  # 날짜형식으로 변환"
   ]
  },
  {
   "cell_type": "code",
   "execution_count": 3,
   "metadata": {},
   "outputs": [
    {
     "name": "stderr",
     "output_type": "stream",
     "text": [
      "/var/folders/1g/7919k_jj15lckqlz0x8sxj4h0000gn/T/ipykernel_8959/1192645885.py:17: FutureWarning: The behavior of DataFrame concatenation with empty or all-NA entries is deprecated. In a future version, this will no longer exclude empty or all-NA columns when determining the result dtypes. To retain the old behavior, exclude the relevant entries before the concat operation.\n",
      "  .apply(calculate_sma, lengths=sma_lengths)\n",
      "/var/folders/1g/7919k_jj15lckqlz0x8sxj4h0000gn/T/ipykernel_8959/1192645885.py:17: DeprecationWarning: DataFrameGroupBy.apply operated on the grouping columns. This behavior is deprecated, and in a future version of pandas the grouping columns will be excluded from the operation. Either pass `include_groups=False` to exclude the groupings or explicitly select the grouping columns after groupby to silence this warning.\n",
      "  .apply(calculate_sma, lengths=sma_lengths)\n"
     ]
    }
   ],
   "source": [
    "import pandas_ta as ta\n",
    "import pandas as pd\n",
    "\n",
    "\n",
    "# 각 종목별로 다양한 기간의 SMA 계산\n",
    "def calculate_sma(group, lengths):\n",
    "    for length in lengths:\n",
    "        group[f\"SMA_{length}\"] = ta.sma(group[\"closePrice\"], length=length)\n",
    "    return group\n",
    "\n",
    "\n",
    "# 원하는 SMA 기간들\n",
    "sma_lengths = [10, 20, 50, 120]\n",
    "# 그룹화하여 SMA 계산 적용\n",
    "price_df = (\n",
    "    price_df.groupby(\"itemCd\", group_keys=False)\n",
    "    .apply(calculate_sma, lengths=sma_lengths)\n",
    "    .reset_index(drop=True)\n",
    ")"
   ]
  }
 ],
 "metadata": {
  "kernelspec": {
   "display_name": "env",
   "language": "python",
   "name": "python3"
  },
  "language_info": {
   "codemirror_mode": {
    "name": "ipython",
    "version": 3
   },
   "file_extension": ".py",
   "mimetype": "text/x-python",
   "name": "python",
   "nbconvert_exporter": "python",
   "pygments_lexer": "ipython3",
   "version": "3.12.8"
  }
 },
 "nbformat": 4,
 "nbformat_minor": 2
}
