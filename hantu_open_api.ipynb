{
 "cells": [
  {
   "cell_type": "code",
   "execution_count": null,
   "metadata": {},
   "outputs": [],
   "source": [
    "from app.services.hantu_services.auth_service import AuthService\n",
    "\n",
    "\n",
    "auth_service = AuthService()\n",
    "access_token = auth_service.get_access_token()"
   ]
  },
  {
   "cell_type": "code",
   "execution_count": null,
   "metadata": {},
   "outputs": [],
   "source": [
    "approval_key = auth_service.get_approval_key()  # 실시간 접속키 발급\n",
    "json_data = {\n",
    "    \"ORD_PRCS_DVSN_CD\": \"02\",\n",
    "    \"CANO\": \"50114050\",\n",
    "    \"ACNT_PRDT_CD\": \"03\",\n",
    "    \"SLL_BUY_DVSN_CD\": \"02\",\n",
    "    \"SHTN_PDNO\": \"101S06\",\n",
    "    \"ORD_QTY\": \"1\",\n",
    "    \"UNIT_PRICE\": \"370\",\n",
    "    \"NMPR_TYPE_CD\": \"\",\n",
    "    \"KRX_NMPR_CNDT_CD\": \"\",\n",
    "    \"CTAC_TLNO\": \"\",\n",
    "    \"FUOP_ITEM_DVSN_CD\": \"\",\n",
    "    \"ORD_DVSN_CD\": \"02\",\n",
    "}\n",
    "hash_key = auth_service.get_hash_key(json_data)  # Hashkey 발급\n",
    "hash_key[\"HASH\"]\n",
    "access_token = auth_service.get_access_token()  # access token 발급"
   ]
  },
  {
   "cell_type": "code",
   "execution_count": null,
   "metadata": {},
   "outputs": [],
   "source": [
    "# access token 폐기\n",
    "revoke_access_token_result = auth_service.revoke_access_token(\n",
    "    access_token[\"access_token\"]\n",
    ")\n",
    "print(revoke_access_token_result[\"code\"], revoke_access_token_result[\"message\"])"
   ]
  },
  {
   "cell_type": "code",
   "execution_count": 2,
   "metadata": {},
   "outputs": [],
   "source": [
    "from app.services.hantu_services.quotations_service import QuotationsService\n",
    "\n",
    "\n",
    "quotations_service = QuotationsService(access_token)"
   ]
  },
  {
   "cell_type": "markdown",
   "metadata": {},
   "source": []
  },
  {
   "cell_type": "code",
   "execution_count": null,
   "metadata": {},
   "outputs": [],
   "source": [
    "res = quotations_service.inquire_price(\"005930\")"
   ]
  },
  {
   "cell_type": "code",
   "execution_count": null,
   "metadata": {},
   "outputs": [],
   "source": [
    "res[\"stck_prpr\"]  # 주식 현재가\n",
    "res[\"prdy_vrss\"]  # 전일대비\n",
    "res[\"prdy_ctrt\"]  # 전일대비율\n",
    "res[\"prdy_vrss_sign\"]  # 전일 대비 부호 1: 상한, 2: 상승, 3: 보합, 4: 하한, 5: 하락\n",
    "res[\"stck_oprc\"]  # 주식 시가\n",
    "res[\"stck_hgpr\"]  # 주식 최고가\n",
    "res[\"stck_lwpr\"]  # 주식 최저가\n",
    "res[\"stck_mxpr\"]  # 주식 상한가\n",
    "res[\"stck_llam\"]  # 주식 하한가\n",
    "res[\"stck_sdpr\"]  # 주식 기준가\n",
    "res[\n",
    "    \"mrkt_warn_cls_code\"\n",
    "]  # 시장경고코드 00: 없음, 01: 투자주의, 02: 투자경고, 03: 투자위험"
   ]
  },
  {
   "cell_type": "code",
   "execution_count": null,
   "metadata": {},
   "outputs": [],
   "source": [
    "inquire_daily_price_res = quotations_service.inquire_daily_price(\"005930\")"
   ]
  },
  {
   "cell_type": "code",
   "execution_count": null,
   "metadata": {},
   "outputs": [],
   "source": [
    "inquire_daily_itemchartprice_res = quotations_service.inquire_daily_itemchartprice(\n",
    "    \"005930\", \"20241001\", \"20241210\"\n",
    ")\n",
    "inquire_daily_itemchartprice_res[\"output2\"]"
   ]
  },
  {
   "cell_type": "code",
   "execution_count": 2,
   "metadata": {},
   "outputs": [],
   "source": [
    "from app.services.hantu_services.trading_service import TradingService\n",
    "\n",
    "\n",
    "trading_service = TradingService(access_token)"
   ]
  },
  {
   "cell_type": "code",
   "execution_count": 4,
   "metadata": {},
   "outputs": [],
   "source": [
    "order_cash_res = trading_service.order_cash(\"005930\", \"1\", \"40000\")"
   ]
  },
  {
   "cell_type": "code",
   "execution_count": null,
   "metadata": {},
   "outputs": [],
   "source": [
    "inquire_daily_ccld_res = trading_service.inquire_daily_ccld()\n",
    "print(inquire_daily_ccld_res)\n",
    "# inquire_daily_ccld_res[0][\"orgn_odno\"]  # 원주문번호"
   ]
  },
  {
   "cell_type": "code",
   "execution_count": null,
   "metadata": {},
   "outputs": [],
   "source": [
    "order_rvsenclcl_res = trading_service.order_rvsecncl(\"\")"
   ]
  }
 ],
 "metadata": {
  "kernelspec": {
   "display_name": "env",
   "language": "python",
   "name": "python3"
  },
  "language_info": {
   "codemirror_mode": {
    "name": "ipython",
    "version": 3
   },
   "file_extension": ".py",
   "mimetype": "text/x-python",
   "name": "python",
   "nbconvert_exporter": "python",
   "pygments_lexer": "ipython3",
   "version": "3.12.8"
  }
 },
 "nbformat": 4,
 "nbformat_minor": 2
}
