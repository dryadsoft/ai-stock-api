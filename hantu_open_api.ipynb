{
 "cells": [
  {
   "cell_type": "code",
   "execution_count": null,
   "metadata": {},
   "outputs": [],
   "source": [
    "from app.services.hantu_services.auth_service import AuthService\n",
    "\n",
    "\n",
    "auth_service = AuthService()\n",
    "# access token 발급\n",
    "access_token = auth_service.get_access_token()"
   ]
  },
  {
   "cell_type": "code",
   "execution_count": 2,
   "metadata": {},
   "outputs": [],
   "source": [
    "from app.services.hantu_services.quotations_service import QuotationsService\n",
    "\n",
    "\n",
    "quotations_service = QuotationsService(access_token)"
   ]
  },
  {
   "cell_type": "markdown",
   "metadata": {},
   "source": []
  },
  {
   "cell_type": "code",
   "execution_count": null,
   "metadata": {},
   "outputs": [],
   "source": [
    "# 주식현재가 시세\n",
    "inquire_price_res = quotations_service.inquire_price(\"005930\")"
   ]
  },
  {
   "cell_type": "code",
   "execution_count": null,
   "metadata": {},
   "outputs": [],
   "source": [
    "print(\n",
    "    inquire_price_res[\"stck_prpr\"],  # 주식 현재가\n",
    "    inquire_price_res[\"prdy_vrss\"],  # 전일대비\n",
    "    inquire_price_res[\"prdy_ctrt\"],  # 전일대비율\n",
    "    inquire_price_res[\n",
    "        \"prdy_vrss_sign\"\n",
    "    ],  # 전일 대비 부호 1: 상한, 2: 상승, 3: 보합, 4: 하한, 5: 하락\n",
    "    inquire_price_res[\"stck_oprc\"],  # 주식 시가\n",
    "    inquire_price_res[\"stck_hgpr\"],  # 주식 최고가\n",
    "    inquire_price_res[\"stck_lwpr\"],  # 주식 최저가\n",
    "    inquire_price_res[\"stck_mxpr\"],  # 주식 상한가\n",
    "    inquire_price_res[\"stck_llam\"],  # 주식 하한가\n",
    "    inquire_price_res[\"stck_sdpr\"],  # 주식 기준가\n",
    "    inquire_price_res[\n",
    "        \"mrkt_warn_cls_code\"\n",
    "    ],  # 시장경고코드 00: 없음, 01: 투자주의, 02: 투자경고, 03: 투자위험\n",
    ")"
   ]
  },
  {
   "cell_type": "code",
   "execution_count": 2,
   "metadata": {},
   "outputs": [],
   "source": [
    "from app.services.hantu_services.trading_service import TradingService\n",
    "\n",
    "\n",
    "trading_service = TradingService(access_token)"
   ]
  },
  {
   "cell_type": "code",
   "execution_count": 4,
   "metadata": {},
   "outputs": [],
   "source": [
    "# 주식주문(현금)\n",
    "order_cash_res = trading_service.order_cash(\"005930\", \"1\", \"40000\")"
   ]
  },
  {
   "cell_type": "code",
   "execution_count": null,
   "metadata": {},
   "outputs": [],
   "source": [
    "# 주식일별주문체결조회\n",
    "inquire_daily_ccld_res = trading_service.inquire_daily_ccld()\n",
    "print(inquire_daily_ccld_res)\n",
    "# inquire_daily_ccld_res[0][\"orgn_odno\"]  # 원주문번호"
   ]
  },
  {
   "cell_type": "code",
   "execution_count": null,
   "metadata": {},
   "outputs": [],
   "source": [
    "# 주식주문(정정취소)\n",
    "order_rvsenclcl_res = trading_service.order_rvsecncl(\"\")"
   ]
  }
 ],
 "metadata": {
  "kernelspec": {
   "display_name": "env",
   "language": "python",
   "name": "python3"
  },
  "language_info": {
   "codemirror_mode": {
    "name": "ipython",
    "version": 3
   },
   "file_extension": ".py",
   "mimetype": "text/x-python",
   "name": "python",
   "nbconvert_exporter": "python",
   "pygments_lexer": "ipython3",
   "version": "3.12.8"
  }
 },
 "nbformat": 4,
 "nbformat_minor": 2
}
