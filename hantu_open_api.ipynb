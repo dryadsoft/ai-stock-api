{
 "cells": [
  {
   "cell_type": "code",
   "execution_count": null,
   "metadata": {},
   "outputs": [],
   "source": [
    "from app.services.hantu_services.auth_service import AuthService\n",
    "\n",
    "\n",
    "auth_service = AuthService()\n",
    "# access token 발급\n",
    "access_token = auth_service.get_access_token()"
   ]
  },
  {
   "cell_type": "code",
   "execution_count": 5,
   "metadata": {},
   "outputs": [],
   "source": [
    "from app.services.hantu_services.quotations_service import QuotationsService\n",
    "\n",
    "\n",
    "quotations_service = QuotationsService(access_token)"
   ]
  },
  {
   "cell_type": "markdown",
   "metadata": {},
   "source": []
  },
  {
   "cell_type": "code",
   "execution_count": null,
   "metadata": {},
   "outputs": [],
   "source": [
    "# 주식현재가 시세\n",
    "inquire_price_res = quotations_service.inquire_price(\"005930\")"
   ]
  },
  {
   "cell_type": "code",
   "execution_count": null,
   "metadata": {},
   "outputs": [],
   "source": [
    "print(\n",
    "    inquire_price_res[\"stck_prpr\"],  # 주식 현재가\n",
    "    inquire_price_res[\"prdy_vrss\"],  # 전일대비\n",
    "    inquire_price_res[\"prdy_ctrt\"],  # 전일대비율\n",
    "    inquire_price_res[\n",
    "        \"prdy_vrss_sign\"\n",
    "    ],  # 전일 대비 부호 1: 상한, 2: 상승, 3: 보합, 4: 하한, 5: 하락\n",
    "    inquire_price_res[\"stck_oprc\"],  # 주식 시가\n",
    "    inquire_price_res[\"stck_hgpr\"],  # 주식 최고가\n",
    "    inquire_price_res[\"stck_lwpr\"],  # 주식 최저가\n",
    "    inquire_price_res[\"stck_mxpr\"],  # 주식 상한가\n",
    "    inquire_price_res[\"stck_llam\"],  # 주식 하한가\n",
    "    inquire_price_res[\"stck_sdpr\"],  # 주식 기준가\n",
    "    inquire_price_res[\n",
    "        \"mrkt_warn_cls_code\"\n",
    "    ],  # 시장경고코드 00: 없음, 01: 투자주의, 02: 투자경고, 03: 투자위험\n",
    ")"
   ]
  },
  {
   "cell_type": "code",
   "execution_count": 8,
   "metadata": {},
   "outputs": [],
   "source": [
    "from app.services.hantu_services.trading_service import TradingService\n",
    "\n",
    "\n",
    "trading_service = TradingService(access_token)"
   ]
  },
  {
   "cell_type": "code",
   "execution_count": 9,
   "metadata": {},
   "outputs": [],
   "source": [
    "# 주식주문(현금)\n",
    "order_cash_res = trading_service.order_cash(\"005930\", \"1\", \"40000\")"
   ]
  },
  {
   "cell_type": "code",
   "execution_count": null,
   "metadata": {},
   "outputs": [],
   "source": [
    "# 주식일별주문체결조회\n",
    "inquire_daily_ccld_res = trading_service.inquire_daily_ccld()\n",
    "print(inquire_daily_ccld_res)\n",
    "# inquire_daily_ccld_res[0][\"odno\"]  # 주문번호"
   ]
  },
  {
   "cell_type": "code",
   "execution_count": null,
   "metadata": {},
   "outputs": [],
   "source": [
    "def filter_ticker(obj):\n",
    "    return True if obj[\"pdno\"] == \"005930\" else False\n",
    "\n",
    "\n",
    "filtered_list = list(filter(filter_ticker, inquire_daily_ccld_res))\n",
    "\n",
    "if len(filtered_list) > 0:\n",
    "    # 주식주문(정정취소)\n",
    "    order_rvsenclcl_res = trading_service.order_rvsecncl(filtered_list[0][\"odno\"])\n",
    "    print(order_rvsenclcl_res[\"msg_cd\"], order_rvsenclcl_res[\"msg1\"])\n",
    "else:\n",
    "    print(\"주문번호가 존재하지 않습니다.\")"
   ]
  },
  {
   "cell_type": "code",
   "execution_count": null,
   "metadata": {},
   "outputs": [],
   "source": []
  },
  {
   "cell_type": "code",
   "execution_count": 1,
   "metadata": {},
   "outputs": [],
   "source": [
    "from sqlalchemy import create_engine\n",
    "from sqlalchemy.orm import sessionmaker\n",
    "\n",
    "engine = create_engine(\"sqlite:///./app/connection/test.db\", echo=False)\n",
    "SessionLocal = sessionmaker(autocommit=False, autoflush=False, bind=engine)\n",
    "session = SessionLocal()"
   ]
  },
  {
   "cell_type": "code",
   "execution_count": 2,
   "metadata": {},
   "outputs": [],
   "source": [
    "import pandas as pd\n",
    "from sqlalchemy import func\n",
    "from app.entities.kor_ticker_entity import KorTickerEntity\n",
    "\n",
    "\n",
    "max_subquery = session.query(func.max(KorTickerEntity.baseDt))\n",
    "query_set = session.query(KorTickerEntity).filter(\n",
    "    KorTickerEntity.baseDt == max_subquery.scalar_subquery(),\n",
    "    KorTickerEntity.itemCtg == \"보통주\",\n",
    ")\n",
    "tickers_df = pd.read_sql(query_set.statement, query_set.session.bind)"
   ]
  },
  {
   "cell_type": "code",
   "execution_count": 4,
   "metadata": {},
   "outputs": [],
   "source": [
    "# 시총 작은 순위로 20개 정렬\n",
    "ticker_rank = tickers_df[\"mrktTotAmt\"].rank(axis=0, ascending=True)\n",
    "result_rank = tickers_df[ticker_rank < 20].sort_values(\n",
    "    by=[\"mrktTotAmt\"], ascending=True\n",
    ")"
   ]
  },
  {
   "cell_type": "code",
   "execution_count": 2,
   "metadata": {},
   "outputs": [],
   "source": [
    "import pandas as pd\n",
    "\n",
    "from app.services.kor_price_service import KorPriceService\n",
    "\n",
    "\n",
    "kor_price_service = KorPriceService(session)\n",
    "price_df = kor_price_service.get_year_price(is_df=True)\n",
    "price_df[\"baseDt\"] = pd.to_datetime(price_df[\"baseDt\"])  # 날짜형식으로 변환\n",
    "price_df = price_df.sort_values(by=[\"itemCd\", \"baseDt\"], ascending=True).reset_index(\n",
    "    drop=True\n",
    ")"
   ]
  },
  {
   "cell_type": "code",
   "execution_count": 3,
   "metadata": {},
   "outputs": [],
   "source": [
    "import pandas_ta as ta\n",
    "import pandas as pd\n",
    "\n",
    "\n",
    "# 각 종목별로 다양한 기간의 SMA 계산\n",
    "def calculate_sma(group, lengths):\n",
    "    for length in lengths:\n",
    "        group[f\"SMA_{length}\"] = ta.sma(group[\"closePrice\"], length=length)\n",
    "    return group.dropna(how=\"all\", axis=1)\n",
    "\n",
    "\n",
    "price_df[\"ticker\"] = price_df[\"itemCd\"]\n",
    "# 원하는 SMA 기간들\n",
    "sma_lengths = [10, 20, 50, 120]\n",
    "# 그룹화하여 SMA 계산 적용\n",
    "price_df_sma = (\n",
    "    price_df.groupby(\"itemCd\")\n",
    "    .apply(lambda x: calculate_sma(x, sma_lengths), include_groups=False)\n",
    "    .reset_index(drop=True)\n",
    ")\n",
    "\n",
    "# price_merge = price_df_sma.merge(price_df[\"itemCd\"], left_index=True, right_index=True)"
   ]
  },
  {
   "cell_type": "code",
   "execution_count": null,
   "metadata": {},
   "outputs": [],
   "source": [
    "select_ticker = \"311390\"\n",
    "one_price = price_df_sma[price_df_sma[\"ticker\"] == select_ticker]\n",
    "one_price = one_price.iloc[119:]\n",
    "\n",
    "ax1 = one_price.plot(figsize=(10, 6), x=\"baseDt\", y=\"closePrice\", title=select_ticker)\n",
    "ax2 = one_price.plot(figsize=(10, 6), x=\"baseDt\", y=\"SMA_10\", ax=ax1)\n",
    "ax3 = one_price.plot(figsize=(10, 6), x=\"baseDt\", y=\"SMA_20\", ax=ax1)\n",
    "ax4 = one_price.plot(figsize=(10, 6), x=\"baseDt\", y=\"SMA_50\", ax=ax1)\n",
    "ax5 = one_price.plot(figsize=(10, 6), x=\"baseDt\", y=\"SMA_120\", ax=ax1)\n",
    "\n",
    "ax1.set_ylabel(\"Price\")\n",
    "ax1.set_xlabel(\"Month\")"
   ]
  },
  {
   "cell_type": "code",
   "execution_count": 21,
   "metadata": {},
   "outputs": [],
   "source": [
    "price_df_sma[\"ticker_1\"] = price_df_sma[\"ticker\"]\n",
    "\n",
    "\n",
    "def removeNa(group):\n",
    "    return group.iloc[119:]\n",
    "\n",
    "\n",
    "price_merge_remove = (\n",
    "    price_df_sma.groupby(by=\"ticker\")\n",
    "    .apply(removeNa, include_groups=False)\n",
    "    .reset_index(drop=True)\n",
    ")"
   ]
  },
  {
   "cell_type": "code",
   "execution_count": 22,
   "metadata": {},
   "outputs": [],
   "source": [
    "price_merge_remove[\"ticker_2\"] = price_merge_remove[\"ticker_1\"]\n",
    "\n",
    "\n",
    "def filter_last(group):\n",
    "    return group.iloc[-1:]\n",
    "\n",
    "\n",
    "filtered_last_data = (\n",
    "    price_merge_remove.groupby(by=\"ticker_1\")\n",
    "    .apply(filter_last, include_groups=False)\n",
    "    .reset_index(drop=True)\n",
    ")"
   ]
  },
  {
   "cell_type": "code",
   "execution_count": null,
   "metadata": {},
   "outputs": [],
   "source": [
    "filtered_last_data = filtered_last_data.query(\n",
    "    \"closePrice > SMA_10 and SMA_10 > SMA_20 and SMA_20 > SMA_50 and SMA_50 > SMA_120\"\n",
    ")"
   ]
  },
  {
   "cell_type": "code",
   "execution_count": null,
   "metadata": {},
   "outputs": [],
   "source": [
    "import pandas as pd\n",
    "import bt\n",
    "import numpy as np\n",
    "\n",
    "# 선택한 티커에 해당하는 데이터 필터링\n",
    "select_ticker = \"003920\"\n",
    "one_price = price_df_sma[price_df_sma[\"ticker_1\"] == select_ticker]\n",
    "one_price = one_price.iloc[119:].reset_index(drop=True)\n",
    "\n",
    "# 필요한 칼럼 선택 및 인덱스 설정\n",
    "one_price = one_price[[\"baseDt\", \"closePrice\", \"SMA_10\", \"SMA_20\", \"SMA_50\", \"SMA_120\"]]\n",
    "one_price.set_index(\"baseDt\", inplace=True)\n",
    "one_price.index = pd.to_datetime(one_price.index)\n",
    "\n",
    "# 조건 정의 및 1/0 값 할당\n",
    "one_price[\"condition\"] = np.where(\n",
    "    (one_price[\"closePrice\"] > one_price[\"SMA_10\"])\n",
    "    & (one_price[\"SMA_10\"] > one_price[\"SMA_20\"])\n",
    "    & (one_price[\"SMA_20\"] > one_price[\"SMA_50\"])\n",
    "    & (one_price[\"SMA_50\"] > one_price[\"SMA_120\"]),\n",
    "    one_price[\"closePrice\"],\n",
    "    one_price[\"SMA_10\"],\n",
    ")\n",
    "\n",
    "# NaN 값 제거\n",
    "one_price.dropna(inplace=True)\n",
    "\n",
    "# 조건 충족 여부 확인\n",
    "if one_price[\"condition\"].sum() == 0:\n",
    "    raise ValueError(\"조건을 충족하는 데이터가 없습니다.\")\n",
    "\n",
    "\n",
    "def con(x):\n",
    "    return x\n",
    "\n",
    "\n",
    "sma = one_price[[\"condition\"]].apply(lambda x: con(x))\n",
    "# 전략 정의\n",
    "strategy = bt.Strategy(\n",
    "    \"SMA\",\n",
    "    [\n",
    "        bt.algos.SelectWhere(sma == one_price[[\"condition\"]]),\n",
    "        bt.algos.WeighEqually(),\n",
    "        bt.algos.Rebalance(),\n",
    "    ],\n",
    ")\n",
    "\n",
    "# 초기 자산 설정\n",
    "stg = bt.Backtest(strategy, one_price, initial_capital=1_000_000)\n",
    "result = bt.run(stg)\n",
    "\n",
    "# 결과 시각화\n",
    "result.plot()"
   ]
  },
  {
   "cell_type": "code",
   "execution_count": null,
   "metadata": {},
   "outputs": [],
   "source": [
    "# result.plot()\n",
    "# 성과지표\n",
    "result.stats"
   ]
  }
 ],
 "metadata": {
  "kernelspec": {
   "display_name": "env",
   "language": "python",
   "name": "python3"
  },
  "language_info": {
   "codemirror_mode": {
    "name": "ipython",
    "version": 3
   },
   "file_extension": ".py",
   "mimetype": "text/x-python",
   "name": "python",
   "nbconvert_exporter": "python",
   "pygments_lexer": "ipython3",
   "version": "3.12.8"
  }
 },
 "nbformat": 4,
 "nbformat_minor": 2
}
