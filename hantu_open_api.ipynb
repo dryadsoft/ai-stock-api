{
 "cells": [
  {
   "cell_type": "code",
   "execution_count": 3,
   "metadata": {},
   "outputs": [
    {
     "name": "stdout",
     "output_type": "stream",
     "text": [
      "access token이 발급되었습니다.\n",
      "access token이 유효합니다.\n"
     ]
    }
   ],
   "source": [
    "from app.services.hantu_services.auth_service import AuthService\n",
    "\n",
    "\n",
    "auth_service = AuthService()\n",
    "# access token 발급\n",
    "access_token = auth_service.get_access_token()"
   ]
  },
  {
   "cell_type": "code",
   "execution_count": 5,
   "metadata": {},
   "outputs": [],
   "source": [
    "from app.services.hantu_services.quotations_service import QuotationsService\n",
    "\n",
    "\n",
    "quotations_service = QuotationsService(access_token)"
   ]
  },
  {
   "cell_type": "markdown",
   "metadata": {},
   "source": []
  },
  {
   "cell_type": "code",
   "execution_count": 6,
   "metadata": {},
   "outputs": [
    {
     "name": "stdout",
     "output_type": "stream",
     "text": [
      "[MCA00000] 정상처리 되었습니다.\n"
     ]
    }
   ],
   "source": [
    "# 주식현재가 시세\n",
    "inquire_price_res = quotations_service.inquire_price(\"005930\")"
   ]
  },
  {
   "cell_type": "code",
   "execution_count": 7,
   "metadata": {},
   "outputs": [
    {
     "name": "stdout",
     "output_type": "stream",
     "text": [
      "55300 -800 -1.43 5 56300 56600 55200 72900 39300 56100 00\n"
     ]
    }
   ],
   "source": [
    "print(\n",
    "    inquire_price_res[\"stck_prpr\"],  # 주식 현재가\n",
    "    inquire_price_res[\"prdy_vrss\"],  # 전일대비\n",
    "    inquire_price_res[\"prdy_ctrt\"],  # 전일대비율\n",
    "    inquire_price_res[\n",
    "        \"prdy_vrss_sign\"\n",
    "    ],  # 전일 대비 부호 1: 상한, 2: 상승, 3: 보합, 4: 하한, 5: 하락\n",
    "    inquire_price_res[\"stck_oprc\"],  # 주식 시가\n",
    "    inquire_price_res[\"stck_hgpr\"],  # 주식 최고가\n",
    "    inquire_price_res[\"stck_lwpr\"],  # 주식 최저가\n",
    "    inquire_price_res[\"stck_mxpr\"],  # 주식 상한가\n",
    "    inquire_price_res[\"stck_llam\"],  # 주식 하한가\n",
    "    inquire_price_res[\"stck_sdpr\"],  # 주식 기준가\n",
    "    inquire_price_res[\n",
    "        \"mrkt_warn_cls_code\"\n",
    "    ],  # 시장경고코드 00: 없음, 01: 투자주의, 02: 투자경고, 03: 투자위험\n",
    ")"
   ]
  },
  {
   "cell_type": "code",
   "execution_count": 8,
   "metadata": {},
   "outputs": [],
   "source": [
    "from app.services.hantu_services.trading_service import TradingService\n",
    "\n",
    "\n",
    "trading_service = TradingService(access_token)"
   ]
  },
  {
   "cell_type": "code",
   "execution_count": 9,
   "metadata": {},
   "outputs": [],
   "source": [
    "# 주식주문(현금)\n",
    "order_cash_res = trading_service.order_cash(\"005930\", \"1\", \"40000\")"
   ]
  },
  {
   "cell_type": "code",
   "execution_count": 10,
   "metadata": {},
   "outputs": [
    {
     "name": "stdout",
     "output_type": "stream",
     "text": [
      "[20310000] 모의투자 조회가 완료되었습니다.                                                 \n",
      "[{'ord_dt': '20241216', 'ord_gno_brno': '00950', 'odno': '0000084756', 'orgn_odno': '0000000000', 'ord_dvsn_name': '보통가', 'sll_buy_dvsn_cd': '02', 'sll_buy_dvsn_cd_name': '매수', 'pdno': '005930', 'prdt_name': '삼성전자', 'ord_qty': '1', 'ord_unpr': '40000', 'ord_tmd': '151810', 'tot_ccld_qty': '0', 'avg_prvs': '0', 'cncl_yn': 'N', 'tot_ccld_amt': '0', 'loan_dt': '', 'ordr_empno': '', 'ord_dvsn_cd': '00', 'cncl_cfrm_qty': '0', 'rmn_qty': '1', 'rjct_qty': '0', 'ccld_cndt_name': '', 'inqr_ip_addr': '', 'cpbc_ordp_ord_rcit_dvsn_cd': '', 'cpbc_ordp_infm_mthd_dvsn_cd': '', 'infm_tmd': '151810', 'ctac_tlno': '', 'prdt_type_cd': '', 'excg_dvsn_cd': '', 'cpbc_ordp_mtrl_dvsn_cd': '', 'ord_orgno': '', 'rsvn_ord_end_dt': ''}]\n"
     ]
    }
   ],
   "source": [
    "# 주식일별주문체결조회\n",
    "inquire_daily_ccld_res = trading_service.inquire_daily_ccld()\n",
    "print(inquire_daily_ccld_res)\n",
    "# inquire_daily_ccld_res[0][\"odno\"]  # 주문번호"
   ]
  },
  {
   "cell_type": "code",
   "execution_count": 11,
   "metadata": {},
   "outputs": [
    {
     "name": "stdout",
     "output_type": "stream",
     "text": [
      "{'rt_cd': '0', 'msg_cd': '40630000', 'msg1': '모의투자 취소주문이 완료 되었습니다.', 'output': {'KRX_FWDG_ORD_ORGNO': '00950', 'ODNO': '84778', 'ORD_TMD': '151820'}}\n",
      "40630000 모의투자 취소주문이 완료 되었습니다.\n"
     ]
    }
   ],
   "source": [
    "def filter_ticker(obj):\n",
    "    return True if obj[\"pdno\"] == \"005930\" else False\n",
    "filtered_list = list(filter(filter_ticker, inquire_daily_ccld_res))\n",
    "\n",
    "if len(filtered_list) > 0:\n",
    "    # 주식주문(정정취소)\n",
    "    order_rvsenclcl_res = trading_service.order_rvsecncl(filtered_list[0][\"odno\"])\n",
    "    print(order_rvsenclcl_res[\"msg_cd\"], order_rvsenclcl_res[\"msg1\"])\n",
    "else:\n",
    "    print(\"주문번호가 존재하지 않습니다.\")"
   ]
  }
 ],
 "metadata": {
  "kernelspec": {
   "display_name": "env",
   "language": "python",
   "name": "python3"
  },
  "language_info": {
   "codemirror_mode": {
    "name": "ipython",
    "version": 3
   },
   "file_extension": ".py",
   "mimetype": "text/x-python",
   "name": "python",
   "nbconvert_exporter": "python",
   "pygments_lexer": "ipython3",
   "version": "3.12.8"
  }
 },
 "nbformat": 4,
 "nbformat_minor": 2
}
