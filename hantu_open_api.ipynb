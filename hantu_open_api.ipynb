{
 "cells": [
  {
   "cell_type": "code",
   "execution_count": null,
   "metadata": {},
   "outputs": [],
   "source": [
    "from app.services.hantu_services.auth_service import AuthService\n",
    "\n",
    "\n",
    "auth_service = AuthService()\n",
    "# access token 발급\n",
    "access_token = auth_service.get_access_token()"
   ]
  },
  {
   "cell_type": "code",
   "execution_count": 2,
   "metadata": {},
   "outputs": [],
   "source": [
    "from app.services.hantu_services.quotations_service import QuotationsService\n",
    "\n",
    "\n",
    "quotations_service = QuotationsService(access_token)"
   ]
  },
  {
   "cell_type": "markdown",
   "metadata": {},
   "source": []
  },
  {
   "cell_type": "code",
   "execution_count": null,
   "metadata": {},
   "outputs": [],
   "source": [
    "# 주식현재가 시세\n",
    "inquire_price_res = quotations_service.inquire_price(\"005930\")"
   ]
  },
  {
   "cell_type": "code",
   "execution_count": null,
   "metadata": {},
   "outputs": [],
   "source": [
    "print(\n",
    "    inquire_price_res[\"stck_prpr\"],  # 주식 현재가\n",
    "    inquire_price_res[\"prdy_vrss\"],  # 전일대비\n",
    "    inquire_price_res[\"prdy_ctrt\"],  # 전일대비율\n",
    "    inquire_price_res[\n",
    "        \"prdy_vrss_sign\"\n",
    "    ],  # 전일 대비 부호 1: 상한, 2: 상승, 3: 보합, 4: 하한, 5: 하락\n",
    "    inquire_price_res[\"stck_oprc\"],  # 주식 시가\n",
    "    inquire_price_res[\"stck_hgpr\"],  # 주식 최고가\n",
    "    inquire_price_res[\"stck_lwpr\"],  # 주식 최저가\n",
    "    inquire_price_res[\"stck_mxpr\"],  # 주식 상한가\n",
    "    inquire_price_res[\"stck_llam\"],  # 주식 하한가\n",
    "    inquire_price_res[\"stck_sdpr\"],  # 주식 기준가\n",
    "    inquire_price_res[\n",
    "        \"mrkt_warn_cls_code\"\n",
    "    ],  # 시장경고코드 00: 없음, 01: 투자주의, 02: 투자경고, 03: 투자위험\n",
    ")"
   ]
  },
  {
   "cell_type": "code",
   "execution_count": 6,
   "metadata": {},
   "outputs": [],
   "source": [
    "from app.services.hantu_services.trading_service import TradingService\n",
    "\n",
    "\n",
    "trading_service = TradingService(access_token)"
   ]
  },
  {
   "cell_type": "code",
   "execution_count": null,
   "metadata": {},
   "outputs": [],
   "source": [
    "# 주식주문(현금)\n",
    "order_cash_res = trading_service.order_cash(\"005930\", \"1\", \"53800\")"
   ]
  },
  {
   "cell_type": "code",
   "execution_count": null,
   "metadata": {},
   "outputs": [],
   "source": [
    "# 주식일별주문체결조회\n",
    "inquire_daily_ccld_res = trading_service.inquire_daily_ccld()\n",
    "print(inquire_daily_ccld_res)\n",
    "# inquire_daily_ccld_res[0][\"odno\"]  # 주문번호"
   ]
  },
  {
   "cell_type": "code",
   "execution_count": null,
   "metadata": {},
   "outputs": [],
   "source": [
    "def filter_ticker(obj):\n",
    "    return True if obj[\"pdno\"] == \"005930\" else False\n",
    "\n",
    "\n",
    "filtered_list = list(filter(filter_ticker, inquire_daily_ccld_res))\n",
    "\n",
    "if len(filtered_list) > 0:\n",
    "    # 주식주문(정정취소)\n",
    "    order_rvsenclcl_res = trading_service.order_rvsecncl(filtered_list[0][\"odno\"])\n",
    "    print(order_rvsenclcl_res[\"msg_cd\"], order_rvsenclcl_res[\"msg1\"])\n",
    "else:\n",
    "    print(\"주문번호가 존재하지 않습니다.\")"
   ]
  },
  {
   "cell_type": "code",
   "execution_count": null,
   "metadata": {},
   "outputs": [],
   "source": []
  },
  {
   "cell_type": "code",
   "execution_count": 1,
   "metadata": {},
   "outputs": [],
   "source": [
    "from sqlalchemy import create_engine\n",
    "from sqlalchemy.orm import sessionmaker\n",
    "\n",
    "engine = create_engine(\"sqlite:///./app/connection/test.db\", echo=False)\n",
    "SessionLocal = sessionmaker(autocommit=False, autoflush=False, bind=engine)\n",
    "session = SessionLocal()"
   ]
  },
  {
   "cell_type": "code",
   "execution_count": 2,
   "metadata": {},
   "outputs": [],
   "source": [
    "import pandas as pd\n",
    "from sqlalchemy import func\n",
    "from app.entities.kor_ticker_entity import KorTickerEntity\n",
    "\n",
    "\n",
    "max_subquery = session.query(func.max(KorTickerEntity.baseDt))\n",
    "query_set = session.query(KorTickerEntity).filter(\n",
    "    KorTickerEntity.baseDt == max_subquery.scalar_subquery(),\n",
    "    KorTickerEntity.itemCtg == \"보통주\",\n",
    ")\n",
    "tickers_df = pd.read_sql(query_set.statement, query_set.session.bind)"
   ]
  },
  {
   "cell_type": "code",
   "execution_count": 4,
   "metadata": {},
   "outputs": [],
   "source": [
    "# 시총 작은 순위로 20개 정렬\n",
    "ticker_rank = tickers_df[\"mrktTotAmt\"].rank(axis=0, ascending=True)\n",
    "result_rank = tickers_df[ticker_rank < 20].sort_values(\n",
    "    by=[\"mrktTotAmt\"], ascending=True\n",
    ")"
   ]
  },
  {
   "cell_type": "code",
   "execution_count": 2,
   "metadata": {},
   "outputs": [],
   "source": [
    "import pandas as pd\n",
    "\n",
    "from app.services.kor_price_service import KorPriceService\n",
    "\n",
    "\n",
    "kor_price_service = KorPriceService(session)\n",
    "price_df = kor_price_service.get_year_price(is_df=True, years=10)\n",
    "price_df[\"baseDt\"] = pd.to_datetime(price_df[\"baseDt\"])  # 날짜형식으로 변환\n",
    "price_df = price_df.sort_values(by=[\"itemCd\", \"baseDt\"], ascending=True).reset_index(\n",
    "    drop=True\n",
    ")"
   ]
  },
  {
   "cell_type": "code",
   "execution_count": 3,
   "metadata": {},
   "outputs": [],
   "source": [
    "import pandas_ta as ta\n",
    "import pandas as pd\n",
    "\n",
    "\n",
    "def get_price_df_sma(df: pd.DataFrame):\n",
    "\n",
    "    # 각 종목별로 다양한 기간의 SMA 계산\n",
    "    def calculate_sma(group, lengths):\n",
    "        for length in lengths:\n",
    "            group[f\"SMA_{length}\"] = ta.sma(group[\"closePrice\"], length=length)\n",
    "        return group.dropna(how=\"all\", axis=1)\n",
    "\n",
    "    df[\"ticker\"] = df[\"itemCd\"]\n",
    "    # 원하는 SMA 기간들\n",
    "    sma_lengths = [10, 20, 50, 120]\n",
    "    # 그룹화하여 SMA 계산 적용\n",
    "    return (\n",
    "        df.groupby(\"itemCd\")\n",
    "        .apply(lambda x: calculate_sma(x, sma_lengths), include_groups=False)\n",
    "        .reset_index(drop=True)\n",
    "    )"
   ]
  },
  {
   "cell_type": "code",
   "execution_count": 4,
   "metadata": {},
   "outputs": [],
   "source": [
    "import pandas_ta as ta\n",
    "import pandas as pd\n",
    "\n",
    "\n",
    "def get_price_df_ema(df: pd.DataFrame):\n",
    "\n",
    "    # 각 종목별로 다양한 기간의 SMA 계산\n",
    "    def calculate_sma(group, lengths):\n",
    "        for length in lengths:\n",
    "            group[f\"EMA_{length}\"] = ta.ema(group[\"closePrice\"], length=length)\n",
    "        return group.dropna(how=\"all\", axis=1)\n",
    "\n",
    "    df[\"ticker\"] = df[\"itemCd\"]\n",
    "    # 원하는 SMA 기간들\n",
    "    sma_lengths = [10, 20, 50, 120]\n",
    "    # 그룹화하여 SMA 계산 적용\n",
    "    return (\n",
    "        df.groupby(\"itemCd\")\n",
    "        .apply(lambda x: calculate_sma(x, sma_lengths), include_groups=False)\n",
    "        .reset_index(drop=True)\n",
    "    )"
   ]
  },
  {
   "cell_type": "code",
   "execution_count": 6,
   "metadata": {},
   "outputs": [],
   "source": [
    "from pandas import DataFrame\n",
    "\n",
    "\n",
    "def get_price_merge_remove(df: DataFrame):\n",
    "    df[\"ticker_1\"] = df[\"ticker\"]\n",
    "\n",
    "    def removeNa(group):\n",
    "        return group.iloc[119:]\n",
    "\n",
    "    return (\n",
    "        df.groupby(by=\"ticker_1\")\n",
    "        .apply(removeNa, include_groups=False)\n",
    "        .reset_index(drop=True)\n",
    "    )"
   ]
  },
  {
   "cell_type": "code",
   "execution_count": 7,
   "metadata": {},
   "outputs": [],
   "source": [
    "from pandas import DataFrame\n",
    "\n",
    "\n",
    "def get_filtered_last_data(df: DataFrame):\n",
    "\n",
    "    df[\"ticker_1\"] = df[\"ticker\"]\n",
    "\n",
    "    def filter_last(group):\n",
    "        return group.iloc[-1:]\n",
    "\n",
    "    return (\n",
    "        df.groupby(by=\"ticker_1\")\n",
    "        .apply(filter_last, include_groups=False)\n",
    "        .reset_index(drop=True)\n",
    "    )"
   ]
  },
  {
   "cell_type": "code",
   "execution_count": 8,
   "metadata": {},
   "outputs": [],
   "source": [
    "price_df_sma = get_price_df_sma(price_df)\n",
    "# price_merge = price_df_sma.merge(price_df[\"itemCd\"], left_index=True, right_index=True)"
   ]
  },
  {
   "cell_type": "code",
   "execution_count": 9,
   "metadata": {},
   "outputs": [],
   "source": [
    "price_df_ema = get_price_df_ema(price_df)"
   ]
  },
  {
   "cell_type": "code",
   "execution_count": null,
   "metadata": {},
   "outputs": [],
   "source": [
    "select_ticker = \"311390\"\n",
    "one_price = price_df_sma[price_df_sma[\"ticker\"] == select_ticker]\n",
    "one_price = one_price.iloc[119:]\n",
    "\n",
    "ax1 = one_price.plot(figsize=(10, 6), x=\"baseDt\", y=\"closePrice\", title=select_ticker)\n",
    "ax2 = one_price.plot(figsize=(10, 6), x=\"baseDt\", y=\"SMA_10\", ax=ax1)\n",
    "ax3 = one_price.plot(figsize=(10, 6), x=\"baseDt\", y=\"SMA_20\", ax=ax1)\n",
    "ax4 = one_price.plot(figsize=(10, 6), x=\"baseDt\", y=\"SMA_50\", ax=ax1)\n",
    "ax5 = one_price.plot(figsize=(10, 6), x=\"baseDt\", y=\"SMA_120\", ax=ax1)\n",
    "\n",
    "ax1.set_ylabel(\"Price\")\n",
    "ax1.set_xlabel(\"Month\")"
   ]
  },
  {
   "cell_type": "code",
   "execution_count": 10,
   "metadata": {},
   "outputs": [],
   "source": [
    "price_merge_remove = get_price_merge_remove(price_df_sma)\n",
    "price_merge_remove_ema = get_price_merge_remove(price_df_ema)"
   ]
  },
  {
   "cell_type": "code",
   "execution_count": 19,
   "metadata": {},
   "outputs": [],
   "source": [
    "price_merge_remove_one = price_merge_remove[price_merge_remove[\"ticker\"] == \"000020\"]"
   ]
  },
  {
   "cell_type": "code",
   "execution_count": 41,
   "metadata": {},
   "outputs": [
    {
     "data": {
      "text/html": [
       "<div>\n",
       "<style scoped>\n",
       "    .dataframe tbody tr th:only-of-type {\n",
       "        vertical-align: middle;\n",
       "    }\n",
       "\n",
       "    .dataframe tbody tr th {\n",
       "        vertical-align: top;\n",
       "    }\n",
       "\n",
       "    .dataframe thead th {\n",
       "        text-align: right;\n",
       "    }\n",
       "</style>\n",
       "<table border=\"1\" class=\"dataframe\">\n",
       "  <thead>\n",
       "    <tr style=\"text-align: right;\">\n",
       "      <th></th>\n",
       "      <th>baseDt</th>\n",
       "      <th>closePrice</th>\n",
       "      <th>ticker</th>\n",
       "      <th>SMA_10</th>\n",
       "      <th>SMA_20</th>\n",
       "      <th>SMA_50</th>\n",
       "      <th>SMA_120</th>\n",
       "      <th>condition</th>\n",
       "      <th>base_amt</th>\n",
       "      <th>buy_qty</th>\n",
       "    </tr>\n",
       "  </thead>\n",
       "  <tbody>\n",
       "    <tr>\n",
       "      <th>0</th>\n",
       "      <td>2015-06-15</td>\n",
       "      <td>8950.0</td>\n",
       "      <td>000020</td>\n",
       "      <td>9405.0</td>\n",
       "      <td>9369.0</td>\n",
       "      <td>8773.8</td>\n",
       "      <td>7243.166667</td>\n",
       "      <td>sell</td>\n",
       "      <td>10000000</td>\n",
       "      <td>0</td>\n",
       "    </tr>\n",
       "    <tr>\n",
       "      <th>1</th>\n",
       "      <td>2015-06-16</td>\n",
       "      <td>8900.0</td>\n",
       "      <td>000020</td>\n",
       "      <td>9255.0</td>\n",
       "      <td>9390.5</td>\n",
       "      <td>8800.6</td>\n",
       "      <td>7272.250000</td>\n",
       "      <td>sell</td>\n",
       "      <td>10000000</td>\n",
       "      <td>0</td>\n",
       "    </tr>\n",
       "    <tr>\n",
       "      <th>2</th>\n",
       "      <td>2015-06-17</td>\n",
       "      <td>8980.0</td>\n",
       "      <td>000020</td>\n",
       "      <td>9166.0</td>\n",
       "      <td>9409.0</td>\n",
       "      <td>8829.8</td>\n",
       "      <td>7303.083333</td>\n",
       "      <td>sell</td>\n",
       "      <td>10000000</td>\n",
       "      <td>0</td>\n",
       "    </tr>\n",
       "    <tr>\n",
       "      <th>3</th>\n",
       "      <td>2015-06-18</td>\n",
       "      <td>9220.0</td>\n",
       "      <td>000020</td>\n",
       "      <td>9143.0</td>\n",
       "      <td>9375.5</td>\n",
       "      <td>8864.0</td>\n",
       "      <td>7336.166667</td>\n",
       "      <td>sell</td>\n",
       "      <td>10000000</td>\n",
       "      <td>0</td>\n",
       "    </tr>\n",
       "    <tr>\n",
       "      <th>4</th>\n",
       "      <td>2015-06-19</td>\n",
       "      <td>9140.0</td>\n",
       "      <td>000020</td>\n",
       "      <td>9108.0</td>\n",
       "      <td>9340.0</td>\n",
       "      <td>8896.0</td>\n",
       "      <td>7369.083333</td>\n",
       "      <td>sell</td>\n",
       "      <td>10000000</td>\n",
       "      <td>0</td>\n",
       "    </tr>\n",
       "    <tr>\n",
       "      <th>...</th>\n",
       "      <td>...</td>\n",
       "      <td>...</td>\n",
       "      <td>...</td>\n",
       "      <td>...</td>\n",
       "      <td>...</td>\n",
       "      <td>...</td>\n",
       "      <td>...</td>\n",
       "      <td>...</td>\n",
       "      <td>...</td>\n",
       "      <td>...</td>\n",
       "    </tr>\n",
       "    <tr>\n",
       "      <th>2334</th>\n",
       "      <td>2024-12-10</td>\n",
       "      <td>6250.0</td>\n",
       "      <td>000020</td>\n",
       "      <td>6400.0</td>\n",
       "      <td>6545.5</td>\n",
       "      <td>7178.6</td>\n",
       "      <td>7693.750000</td>\n",
       "      <td>sell</td>\n",
       "      <td>10000000</td>\n",
       "      <td>100</td>\n",
       "    </tr>\n",
       "    <tr>\n",
       "      <th>2335</th>\n",
       "      <td>2024-12-11</td>\n",
       "      <td>6300.0</td>\n",
       "      <td>000020</td>\n",
       "      <td>6365.0</td>\n",
       "      <td>6521.5</td>\n",
       "      <td>7148.4</td>\n",
       "      <td>7677.666667</td>\n",
       "      <td>sell</td>\n",
       "      <td>10000000</td>\n",
       "      <td>100</td>\n",
       "    </tr>\n",
       "    <tr>\n",
       "      <th>2336</th>\n",
       "      <td>2024-12-12</td>\n",
       "      <td>6340.0</td>\n",
       "      <td>000020</td>\n",
       "      <td>6331.0</td>\n",
       "      <td>6504.0</td>\n",
       "      <td>7120.0</td>\n",
       "      <td>7662.666667</td>\n",
       "      <td>sell</td>\n",
       "      <td>10000000</td>\n",
       "      <td>100</td>\n",
       "    </tr>\n",
       "    <tr>\n",
       "      <th>2337</th>\n",
       "      <td>2024-12-13</td>\n",
       "      <td>6420.0</td>\n",
       "      <td>000020</td>\n",
       "      <td>6312.0</td>\n",
       "      <td>6493.5</td>\n",
       "      <td>7096.4</td>\n",
       "      <td>7649.000000</td>\n",
       "      <td>sell</td>\n",
       "      <td>10000000</td>\n",
       "      <td>100</td>\n",
       "    </tr>\n",
       "    <tr>\n",
       "      <th>2338</th>\n",
       "      <td>2024-12-16</td>\n",
       "      <td>6390.0</td>\n",
       "      <td>000020</td>\n",
       "      <td>6308.0</td>\n",
       "      <td>6477.0</td>\n",
       "      <td>7071.6</td>\n",
       "      <td>7634.416667</td>\n",
       "      <td>sell</td>\n",
       "      <td>10000000</td>\n",
       "      <td>100</td>\n",
       "    </tr>\n",
       "  </tbody>\n",
       "</table>\n",
       "<p>2339 rows × 10 columns</p>\n",
       "</div>"
      ],
      "text/plain": [
       "         baseDt  closePrice  ticker  SMA_10  SMA_20  SMA_50      SMA_120  \\\n",
       "0    2015-06-15      8950.0  000020  9405.0  9369.0  8773.8  7243.166667   \n",
       "1    2015-06-16      8900.0  000020  9255.0  9390.5  8800.6  7272.250000   \n",
       "2    2015-06-17      8980.0  000020  9166.0  9409.0  8829.8  7303.083333   \n",
       "3    2015-06-18      9220.0  000020  9143.0  9375.5  8864.0  7336.166667   \n",
       "4    2015-06-19      9140.0  000020  9108.0  9340.0  8896.0  7369.083333   \n",
       "...         ...         ...     ...     ...     ...     ...          ...   \n",
       "2334 2024-12-10      6250.0  000020  6400.0  6545.5  7178.6  7693.750000   \n",
       "2335 2024-12-11      6300.0  000020  6365.0  6521.5  7148.4  7677.666667   \n",
       "2336 2024-12-12      6340.0  000020  6331.0  6504.0  7120.0  7662.666667   \n",
       "2337 2024-12-13      6420.0  000020  6312.0  6493.5  7096.4  7649.000000   \n",
       "2338 2024-12-16      6390.0  000020  6308.0  6477.0  7071.6  7634.416667   \n",
       "\n",
       "     condition  base_amt  buy_qty  \n",
       "0         sell  10000000        0  \n",
       "1         sell  10000000        0  \n",
       "2         sell  10000000        0  \n",
       "3         sell  10000000        0  \n",
       "4         sell  10000000        0  \n",
       "...        ...       ...      ...  \n",
       "2334      sell  10000000      100  \n",
       "2335      sell  10000000      100  \n",
       "2336      sell  10000000      100  \n",
       "2337      sell  10000000      100  \n",
       "2338      sell  10000000      100  \n",
       "\n",
       "[2339 rows x 10 columns]"
      ]
     },
     "execution_count": 41,
     "metadata": {},
     "output_type": "execute_result"
    }
   ],
   "source": [
    "price_merge_remove_one.loc[10:,\"buy_qty\"] = 100\n",
    "price_merge_remove_one"
   ]
  },
  {
   "cell_type": "code",
   "execution_count": 45,
   "metadata": {},
   "outputs": [
    {
     "name": "stderr",
     "output_type": "stream",
     "text": [
      "/tmp/ipykernel_14852/3876435259.py:6: SettingWithCopyWarning: \n",
      "A value is trying to be set on a copy of a slice from a DataFrame.\n",
      "Try using .loc[row_indexer,col_indexer] = value instead\n",
      "\n",
      "See the caveats in the documentation: https://pandas.pydata.org/pandas-docs/stable/user_guide/indexing.html#returning-a-view-versus-a-copy\n",
      "  price_merge_remove_one[\"condition\"] = np.where(\n",
      "/tmp/ipykernel_14852/3876435259.py:14: SettingWithCopyWarning: \n",
      "A value is trying to be set on a copy of a slice from a DataFrame.\n",
      "Try using .loc[row_indexer,col_indexer] = value instead\n",
      "\n",
      "See the caveats in the documentation: https://pandas.pydata.org/pandas-docs/stable/user_guide/indexing.html#returning-a-view-versus-a-copy\n",
      "  price_merge_remove_one[\"base_amt\"] = base_amt\n",
      "/tmp/ipykernel_14852/3876435259.py:15: SettingWithCopyWarning: \n",
      "A value is trying to be set on a copy of a slice from a DataFrame.\n",
      "Try using .loc[row_indexer,col_indexer] = value instead\n",
      "\n",
      "See the caveats in the documentation: https://pandas.pydata.org/pandas-docs/stable/user_guide/indexing.html#returning-a-view-versus-a-copy\n",
      "  price_merge_remove_one[\"buy_qty\"] = 0\n"
     ]
    }
   ],
   "source": [
    "# custom BACKTEST\n",
    "import numpy as np\n",
    "import math\n",
    "\n",
    "base_amt = 10_000_000\n",
    "\n",
    "price_merge_remove_one[\"condition\"] = np.where(\n",
    "    (price_merge_remove_one[\"closePrice\"] > price_merge_remove_one[\"SMA_10\"])\n",
    "    & (price_merge_remove_one[\"SMA_10\"] > price_merge_remove_one[\"SMA_20\"])\n",
    "    & (price_merge_remove_one[\"SMA_20\"] > price_merge_remove_one[\"SMA_50\"])\n",
    "    & (price_merge_remove_one[\"SMA_50\"] > price_merge_remove_one[\"SMA_120\"]),\n",
    "    \"buy\",\n",
    "    np.where(price_merge_remove_one[\"closePrice\"] < price_merge_remove_one[\"SMA_10\"], \"sell\", \"\"),\n",
    ")\n",
    "price_merge_remove_one[\"base_amt\"] = base_amt\n",
    "price_merge_remove_one[\"buy_qty\"] = 0\n",
    "flag = None  # b or s\n",
    "\n",
    "for idx in range(len(price_merge_remove_one)):\n",
    "    \n",
    "    row = price_merge_remove_one.iloc[idx]\n",
    "    condition = row[\"condition\"]\n",
    "    closePrice = row[\"closePrice\"]\n",
    "\n",
    "    if condition == \"sell\":\n",
    "        if flag == \"b\":\n",
    "            row = price_merge_remove_one.iloc[idx - 1]\n",
    "            prev_amt = row[\"base_amt\"]\n",
    "            prev_qty = row[\"buy_qty\"]\n",
    "            price_merge_remove_one.loc[idx:, \"base_amt\"] = prev_amt + (\n",
    "                prev_qty * closePrice\n",
    "            )\n",
    "            price_merge_remove_one.loc[idx:, \"buy_qty\"] = 0\n",
    "            flag = \"s\"\n",
    "    elif condition == \"buy\":\n",
    "        if flag == \"s\" or flag == None:\n",
    "            if idx == 0:\n",
    "                row = price_merge_remove_one.iloc[idx]\n",
    "            else:\n",
    "                row = price_merge_remove_one.iloc[idx - 1]\n",
    "            prev_amt = row[\"base_amt\"]\n",
    "            buy_qty = math.floor(prev_amt / closePrice)\n",
    "            price_merge_remove_one.loc[idx:, \"buy_qty\"] = buy_qty\n",
    "            price_merge_remove_one.loc[idx:, \"base_amt\"] = prev_amt - (\n",
    "                buy_qty * closePrice\n",
    "            )\n",
    "            flag = \"b\""
   ]
  },
  {
   "cell_type": "code",
   "execution_count": 18,
   "metadata": {},
   "outputs": [
    {
     "data": {
      "text/plain": [
       "19"
      ]
     },
     "execution_count": 18,
     "metadata": {},
     "output_type": "execute_result"
    }
   ],
   "source": [
    "import math\n",
    "\n",
    "math.floor(10000000/500234)"
   ]
  },
  {
   "cell_type": "code",
   "execution_count": null,
   "metadata": {},
   "outputs": [],
   "source": [
    "filtered_last_data = get_filtered_last_data(price_merge_remove)"
   ]
  },
  {
   "cell_type": "code",
   "execution_count": 6,
   "metadata": {},
   "outputs": [],
   "source": [
    "filtered_last_data = filtered_last_data.query(\n",
    "    \"closePrice > SMA_10 and SMA_10 > SMA_20 and SMA_20 > SMA_50 and SMA_50 > SMA_120\"\n",
    ")"
   ]
  },
  {
   "cell_type": "code",
   "execution_count": 7,
   "metadata": {},
   "outputs": [],
   "source": [
    "import pandas as pd\n",
    "import bt\n",
    "import numpy as np\n",
    "\n",
    "\n",
    "def custom_backtest(df: DataFrame, ticker: str, name: str):\n",
    "    # 선택한 티커에 해당하는 데이터 필터링\n",
    "    select_ticker = ticker\n",
    "    one_price = df[df[\"ticker\"] == select_ticker]\n",
    "    # one_price = one_price.iloc[119:].reset_index(drop=True)\n",
    "\n",
    "    # 필요한 칼럼 선택 및 인덱스 설정\n",
    "    one_price = one_price[\n",
    "        [\"baseDt\", \"closePrice\", \"SMA_10\", \"SMA_20\", \"SMA_50\", \"SMA_120\"]\n",
    "    ]\n",
    "    one_price.set_index(\"baseDt\", inplace=True)\n",
    "    one_price.index = pd.to_datetime(one_price.index)\n",
    "\n",
    "    # 조건 정의 및 1/0 값 할당\n",
    "    one_price[\"condition\"] = np.where(\n",
    "        (one_price[\"closePrice\"] > one_price[\"SMA_10\"])\n",
    "        & (one_price[\"SMA_10\"] > one_price[\"SMA_20\"])\n",
    "        & (one_price[\"SMA_20\"] > one_price[\"SMA_50\"])\n",
    "        & (one_price[\"SMA_50\"] > one_price[\"SMA_120\"]),\n",
    "        one_price[\"closePrice\"],\n",
    "        one_price[\"SMA_10\"],\n",
    "    )\n",
    "\n",
    "    # NaN 값 제거\n",
    "    one_price.dropna(inplace=True)\n",
    "\n",
    "    # 조건 충족 여부 확인\n",
    "    if one_price[\"condition\"].sum() == 0:\n",
    "        raise ValueError(\"조건을 충족하는 데이터가 없습니다.\")\n",
    "\n",
    "    def con(x):\n",
    "        return x\n",
    "\n",
    "    sma = one_price[[\"condition\"]].apply(lambda x: con(x))\n",
    "    # print(sma, one_price[[\"condition\"]])\n",
    "    # 전략 정의\n",
    "    strategy = bt.Strategy(\n",
    "        name,\n",
    "        [\n",
    "            bt.algos.SelectWhere(sma >= one_price[[\"condition\"]]),\n",
    "            bt.algos.WeighEqually(),\n",
    "            bt.algos.Rebalance(),\n",
    "        ],\n",
    "    )\n",
    "    # 초기 자산 설정\n",
    "    return bt.Backtest(strategy, one_price, initial_capital=10_000_000)"
   ]
  },
  {
   "cell_type": "code",
   "execution_count": 8,
   "metadata": {},
   "outputs": [],
   "source": [
    "import numpy as np\n",
    "\n",
    "\n",
    "def year_amt(group):\n",
    "    year = group.iloc[-245:].reset_index(drop=True)\n",
    "    # print(year)\n",
    "    first_day = year.iloc[0:1].reset_index(drop=True)\n",
    "    last_day = year.iloc[-1:].reset_index(drop=True)\n",
    "    # print((last_day[\"closePrice\"] - first_day[\"closePrice\"]).iloc[0])\n",
    "    group = group.assign(\n",
    "        ok=np.where(\n",
    "            (last_day[\"closePrice\"] - first_day[\"closePrice\"]).iloc[0] > 0, \"Y\", \"N\"\n",
    "        )\n",
    "    )\n",
    "\n",
    "    return group"
   ]
  },
  {
   "cell_type": "code",
   "execution_count": null,
   "metadata": {},
   "outputs": [],
   "source": [
    "test = price_df_sma.groupby(by=\"ticker_1\").apply(\n",
    "    lambda x: year_amt(x), include_groups=False\n",
    ")"
   ]
  },
  {
   "cell_type": "code",
   "execution_count": null,
   "metadata": {},
   "outputs": [],
   "source": [
    "price_df_ema[\"ticker_1\"] = price_df_ema[\"ticker\"]\n",
    "test = price_df_ema.groupby(by=\"ticker_1\").apply(\n",
    "    lambda x: year_amt(x), include_groups=False\n",
    ")"
   ]
  },
  {
   "cell_type": "code",
   "execution_count": null,
   "metadata": {},
   "outputs": [],
   "source": [
    "select_ticker = \"311390\"\n",
    "one_price = price_df_ema[price_df_ema[\"ticker\"] == select_ticker]\n",
    "one_price = one_price.iloc[119:]\n",
    "\n",
    "ax1 = one_price.plot(figsize=(10, 6), x=\"baseDt\", y=\"closePrice\", title=select_ticker)\n",
    "ax2 = one_price.plot(figsize=(10, 6), x=\"baseDt\", y=\"SMA_10\", ax=ax1)\n",
    "ax3 = one_price.plot(figsize=(10, 6), x=\"baseDt\", y=\"SMA_20\", ax=ax1)\n",
    "ax4 = one_price.plot(figsize=(10, 6), x=\"baseDt\", y=\"SMA_50\", ax=ax1)\n",
    "ax5 = one_price.plot(figsize=(10, 6), x=\"baseDt\", y=\"SMA_120\", ax=ax1)\n",
    "\n",
    "ax1.set_ylabel(\"Price\")\n",
    "ax1.set_xlabel(\"Month\")"
   ]
  },
  {
   "cell_type": "code",
   "execution_count": 11,
   "metadata": {},
   "outputs": [],
   "source": [
    "test = test[test[\"ok\"] == \"Y\"]"
   ]
  },
  {
   "cell_type": "code",
   "execution_count": 12,
   "metadata": {},
   "outputs": [],
   "source": [
    "test = get_price_merge_remove(test)"
   ]
  },
  {
   "cell_type": "code",
   "execution_count": 13,
   "metadata": {},
   "outputs": [],
   "source": [
    "test_filter = get_filtered_last_data(test)\n",
    "test_filter_last_data = test_filter.query(\n",
    "    \"closePrice > SMA_10 and SMA_10 > SMA_20 and SMA_20 > SMA_50 and SMA_50 > SMA_120\"\n",
    ")"
   ]
  },
  {
   "cell_type": "code",
   "execution_count": null,
   "metadata": {},
   "outputs": [],
   "source": [
    "stg1 = custom_backtest(test, \"000150\", \"000150\")\n",
    "stg2 = custom_backtest(test, \"000320\", \"000320\")\n",
    "stg3 = custom_backtest(test, \"000500\", \"000500\")\n",
    "stg4 = custom_backtest(test, \"001260\", \"001260\")\n",
    "stg5 = custom_backtest(test, \"001530\", \"001530\")\n",
    "\n",
    "\n",
    "result = bt.run(stg1, stg2, stg3, stg4, stg5)\n",
    "# # 결과 시각화\n",
    "result.plot()"
   ]
  },
  {
   "cell_type": "code",
   "execution_count": null,
   "metadata": {},
   "outputs": [],
   "source": [
    "result.stats"
   ]
  }
 ],
 "metadata": {
  "kernelspec": {
   "display_name": "env",
   "language": "python",
   "name": "python3"
  },
  "language_info": {
   "codemirror_mode": {
    "name": "ipython",
    "version": 3
   },
   "file_extension": ".py",
   "mimetype": "text/x-python",
   "name": "python",
   "nbconvert_exporter": "python",
   "pygments_lexer": "ipython3",
   "version": "3.12.8"
  }
 },
 "nbformat": 4,
 "nbformat_minor": 2
}
