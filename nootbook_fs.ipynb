{
 "cells": [
  {
   "cell_type": "code",
   "execution_count": 1,
   "metadata": {},
   "outputs": [],
   "source": [
    "import re\n",
    "from bs4 import BeautifulSoup\n",
    "import pandas as pd\n",
    "import requests as rq\n",
    "\n",
    "url = f\"https://comp.fnguide.com/SVO2/ASP/SVD_finance.asp?pGB=1&gicode=A005930\"\n",
    "data = pd.read_html(url, displayed_only=False)"
   ]
  },
  {
   "cell_type": "code",
   "execution_count": 2,
   "metadata": {},
   "outputs": [],
   "source": [
    "def get_fiscal_date(url):\n",
    "    page_data = rq.get(url)\n",
    "    page_data_html = BeautifulSoup(page_data.content, \"html.parser\")\n",
    "    fiscal_data = page_data_html.select(\"div.corp_group1 > h2\")\n",
    "    fiscal_data_text = fiscal_data[1].text\n",
    "    fiscal_data_text = re.findall(\"[0-9]+\", fiscal_data_text)\n",
    "    return fiscal_data_text\n",
    "\n",
    "\n",
    "def clean_fs(df, ticker, frequency):\n",
    "    df = df[~df.loc[:, ~df.columns.isin([\"계정\"])].isna().all(axis=1)]\n",
    "    df.loc[:, \"계정\"] = df[\"계정\"].replace(\n",
    "        {\"계산에 참여한 계정 펼치기\": \"\"}, regex=True\n",
    "    )\n",
    "    df = df.drop_duplicates([\"계정\"], keep=\"first\")\n",
    "    df = pd.melt(df, id_vars=\"계정\", var_name=\"기준일\", value_name=\"값\")\n",
    "    # df[\"계정\"] = df[\"계정\"].replace({\"계산에 참여한 계정 펼치기\": \"\"}, regex=True)\n",
    "    df = df[~pd.isnull(df[\"값\"])]\n",
    "    df[\"기준일\"] = (\n",
    "        pd.to_datetime(df[\"기준일\"], format=\"%Y/%m\") + pd.tseries.offsets.MonthEnd()\n",
    "    )\n",
    "    df[\"기준일\"] = df[\"기준일\"].dt.strftime(\"%Y%m%d\")\n",
    "    type\n",
    "    df[\"종목코드\"] = ticker\n",
    "    df[\"공시구분\"] = frequency\n",
    "\n",
    "    return df\n",
    "\n",
    "\n",
    "fiscal_data_text = get_fiscal_date(url)"
   ]
  },
  {
   "cell_type": "code",
   "execution_count": 18,
   "metadata": {},
   "outputs": [],
   "source": [
    "data_fs_y = pd.concat(\n",
    "    [\n",
    "        data[0].iloc[:, ~data[0].columns.str.contains(\"전년동기\")],\n",
    "        data[2],\n",
    "        data[4],\n",
    "    ]\n",
    ")"
   ]
  },
  {
   "cell_type": "code",
   "execution_count": 19,
   "metadata": {},
   "outputs": [],
   "source": [
    "data_fs_y = data_fs_y.rename(columns={data_fs_y.columns[0]: \"계정\"})\n",
    "# 결산월 뒤 분기데이터 삭제\n",
    "data_fs_y = data_fs_y.loc[\n",
    "    :,\n",
    "    (data_fs_y.columns == \"계정\") | (data_fs_y.columns.str[-2:].isin(fiscal_data_text)),\n",
    "]"
   ]
  },
  {
   "cell_type": "code",
   "execution_count": 10,
   "metadata": {},
   "outputs": [],
   "source": [
    "df = data_fs_y\n",
    "\n",
    "# replace 후에 중복제거\n",
    "df = df[~df.loc[:, ~df.columns.isin([\"계정\"])].isna().all(axis=1)]  # null값 제거\n",
    "df.loc[:, \"계정\"] = df[\"계정\"].replace({\"계산에 참여한 계정 펼치기\": \"\"}, regex=True)\n",
    "df = df.drop_duplicates([\"계정\"], keep=\"first\")\n",
    "df = pd.melt(df, id_vars=\"계정\", var_name=\"기준일\", value_name=\"값\")\n",
    "df = df[~pd.isnull(df[\"값\"])]"
   ]
  },
  {
   "cell_type": "code",
   "execution_count": 20,
   "metadata": {},
   "outputs": [],
   "source": [
    "data_fs_q = pd.concat(\n",
    "    [\n",
    "        data[1].iloc[:, ~data[0].columns.str.contains(\"전년동기\")],\n",
    "        data[3],\n",
    "        data[5],\n",
    "    ]\n",
    ")"
   ]
  },
  {
   "cell_type": "code",
   "execution_count": null,
   "metadata": {},
   "outputs": [],
   "source": []
  },
  {
   "cell_type": "code",
   "execution_count": 40,
   "metadata": {},
   "outputs": [],
   "source": [
    "data_fs_q = data_fs_q.rename(columns={data_fs_q.columns[0]: \"계정\"})"
   ]
  },
  {
   "cell_type": "code",
   "execution_count": 41,
   "metadata": {},
   "outputs": [],
   "source": [
    "df = data_fs_q\n",
    "\n",
    "# replace 후에 중복제거\n",
    "df = df[~df.loc[:, ~df.columns.isin([\"계정\"])].isna().all(axis=1)]  # null값 제거\n",
    "df.loc[:, \"계정\"] = df[\"계정\"].replace({\"계산에 참여한 계정 펼치기\": \"\"}, regex=True)\n",
    "df = df.drop_duplicates([\"계정\"], keep=\"first\")\n",
    "df = pd.melt(df, id_vars=\"계정\", var_name=\"기준일\", value_name=\"값\")\n",
    "df = df[~pd.isnull(df[\"값\"])]"
   ]
  }
 ],
 "metadata": {
  "kernelspec": {
   "display_name": "env",
   "language": "python",
   "name": "python3"
  },
  "language_info": {
   "codemirror_mode": {
    "name": "ipython",
    "version": 3
   },
   "file_extension": ".py",
   "mimetype": "text/x-python",
   "name": "python",
   "nbconvert_exporter": "python",
   "pygments_lexer": "ipython3",
   "version": "3.12.6"
  }
 },
 "nbformat": 4,
 "nbformat_minor": 2
}
