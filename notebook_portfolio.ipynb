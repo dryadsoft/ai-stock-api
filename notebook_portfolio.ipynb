{
 "cells": [
  {
   "cell_type": "code",
   "execution_count": 1,
   "metadata": {},
   "outputs": [],
   "source": [
    "from sqlalchemy import create_engine\n",
    "from sqlalchemy.orm import sessionmaker\n",
    "\n",
    "engine = create_engine(\"sqlite:///./app/connection/test.db\", echo=False)\n",
    "SessionLocal = sessionmaker(autocommit=False, autoflush=False, bind=engine)\n",
    "session = SessionLocal()"
   ]
  },
  {
   "cell_type": "code",
   "execution_count": 45,
   "metadata": {},
   "outputs": [],
   "source": [
    "from app.services.kor_price_service import KorPriceService\n",
    "from app.services.kor_ticker_service import KorTickerService\n",
    "from app.services.kor_value_service import KorValueService\n",
    "\n",
    "kor_value_service = KorValueService(session)\n",
    "kor_ticker_service = KorTickerService(session)\n",
    "kor_price_service = KorPriceService(session)\n",
    "\n",
    "value_list = kor_value_service.get_values(isDf=True)\n",
    "ticker_list = kor_ticker_service.get_tickers(isDf=True)\n",
    "price_list = kor_price_service.get_year_price(is_df=True)"
   ]
  },
  {
   "cell_type": "code",
   "execution_count": 18,
   "metadata": {},
   "outputs": [],
   "source": [
    "# 벨류 포트폴리오\n",
    "from app.services.portfolio_services.value_portfolio_service import ValuePortfolio\n",
    "\n",
    "\n",
    "value_portfolio = ValuePortfolio(session)\n",
    "v1 = value_portfolio.get_value_portfolio_by_pbr_per()\n",
    "v2 = value_portfolio.get_value_portfolio_by_all()\n",
    "value_portfolio.paint_graph(v2)"
   ]
  },
  {
   "cell_type": "code",
   "execution_count": 19,
   "metadata": {},
   "outputs": [],
   "source": [
    "# 모멘텀 포트폴리오\n",
    "from app.services.portfolio_services.momentum_portfolio_service import MomentumPortfolio\n",
    "\n",
    "\n",
    "momentum_portfolio = MomentumPortfolio(session)\n",
    "simple_momentum = momentum_portfolio.get_simple_momentum()\n",
    "k_ratio_momentum = momentum_portfolio.get_k_ratio_momentum()\n",
    "momentum_portfolio.paint_graph(momentum=k_ratio_momentum)"
   ]
  },
  {
   "cell_type": "code",
   "execution_count": null,
   "metadata": {},
   "outputs": [],
   "source": [
    "# 퀄리티 포트폴리오\n",
    "from app.services.portfolio_services.quality_portfolio_service import QualityPortfolio\n",
    "\n",
    "\n",
    "quality_portfolio = QualityPortfolio(session)\n",
    "quality = quality_portfolio.get_quality_momentum()\n",
    "quality_portfolio.paint_graph(quality)\n",
    "\n",
    "title = \"수익성별 퐅트폴리오의 누적 수익률\"\n",
    "url = \"https://mba.tuck.dartmouth.edu/pages/faculty/ken.french/ftp/Portfolios_Formed_on_OP_CSV.zip\"\n",
    "quality_portfolio.paint_french_portfolio(url, title)"
   ]
  }
 ],
 "metadata": {
  "kernelspec": {
   "display_name": "env",
   "language": "python",
   "name": "python3"
  },
  "language_info": {
   "codemirror_mode": {
    "name": "ipython",
    "version": 3
   },
   "file_extension": ".py",
   "mimetype": "text/x-python",
   "name": "python",
   "nbconvert_exporter": "python",
   "pygments_lexer": "ipython3",
   "version": "3.12.6"
  }
 },
 "nbformat": 4,
 "nbformat_minor": 2
}
