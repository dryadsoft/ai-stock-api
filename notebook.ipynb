{
 "cells": [
  {
   "cell_type": "code",
   "execution_count": 1,
   "metadata": {},
   "outputs": [],
   "source": [
    "from sqlalchemy import create_engine\n",
    "from sqlalchemy.orm import sessionmaker\n",
    "\n",
    "engine = create_engine(\"sqlite:///./app/connection/test.db\", echo=False)\n",
    "SessionLocal = sessionmaker(autocommit=False, autoflush=False, bind=engine)\n",
    "session = SessionLocal()"
   ]
  },
  {
   "cell_type": "code",
   "execution_count": 2,
   "metadata": {},
   "outputs": [],
   "source": [
    "from app.services.kor_value_service import KorValueService\n",
    "\n",
    "\n",
    "kor_value_service = KorValueService(session)\n",
    "value_list = kor_value_service.get_values(isDf=True)"
   ]
  },
  {
   "cell_type": "code",
   "execution_count": 3,
   "metadata": {},
   "outputs": [],
   "source": [
    "# 밸류 지표 히스토그램\n",
    "value_pivot = value_list.pivot(index=\"itemCd\", columns=\"metrics\", values=\"amt\")\n",
    "value_rank = value_pivot.rank(axis=0)"
   ]
  },
  {
   "cell_type": "code",
   "execution_count": null,
   "metadata": {},
   "outputs": [],
   "source": [
    "import matplotlib.pyplot as plt\n",
    "\n",
    "fig, axes = plt.subplots(5, 1, figsize=(10, 6), sharex=True)\n",
    "for n, ax in enumerate(axes.flatten()):\n",
    "    ax.hist(value_rank.iloc[:, n])\n",
    "    ax.set_title(value_rank.columns[n], size=12)"
   ]
  },
  {
   "cell_type": "code",
   "execution_count": null,
   "metadata": {},
   "outputs": [],
   "source": [
    "value_pivot.isna().sum()"
   ]
  },
  {
   "cell_type": "code",
   "execution_count": 7,
   "metadata": {},
   "outputs": [],
   "source": [
    "# 랭킹을 구한 후 z-scoe로 정규화\n",
    "\n",
    "from scipy.stats import zscore\n",
    "\n",
    "value_rank_z = value_rank.apply(zscore, nan_policy=\"omit\")"
   ]
  },
  {
   "cell_type": "code",
   "execution_count": null,
   "metadata": {},
   "outputs": [],
   "source": [
    "fig, axes = plt.subplots(5, 1, figsize=(10, 6), sharex=True, sharey=True)\n",
    "for n, ax in enumerate(axes.flatten()):\n",
    "    ax.hist(value_rank_z.iloc[:, n])\n",
    "    ax.set_title(value_rank.columns[n], size=12)"
   ]
  },
  {
   "cell_type": "code",
   "execution_count": 2,
   "metadata": {},
   "outputs": [],
   "source": [
    "# 멀티팩터\n",
    "\"\"\"\n",
    "퀄리티: 자기자본이익률(ROE), 매출총이익(GPA), 영업활동현금흐름(CFO)\n",
    "밸류: PER, PBR, PSR, PCR, DY\n",
    "모멘텀: 12개월 수익률, K-Ratio\n",
    "섹터 중립화, 랭킹 후 Z-Score 변환\n",
    "\"\"\"\n",
    "\n",
    "from app.services.kor_fs_service import KorFsService\n",
    "from app.services.kor_price_service import KorPriceService\n",
    "from app.services.kor_sector_service import KorSectorService\n",
    "from app.services.kor_ticker_service import KorTickerService\n",
    "from app.services.kor_value_service import KorValueService\n",
    "\n",
    "kor_ticker_service = KorTickerService(session)\n",
    "kor_fs_service = KorFsService(session)\n",
    "kor_value_service = KorValueService(session)\n",
    "kor_price_service = KorPriceService(session)\n",
    "kor_sector_service = KorSectorService(session)\n",
    "\n",
    "ticker_list = kor_ticker_service.get_tickers(isDf=True)\n",
    "fs_list = kor_fs_service.get_fs(\n",
    "    \"q\", [\"당기순이익\", \"매출총이익\", \"영업활동으로인한현금흐름\", \"자산\", \"자본\"]\n",
    ")\n",
    "value_list = kor_value_service.get_values(isDf=True)\n",
    "price_list = kor_price_service.get_year_price(is_df=True)\n",
    "sector_list = kor_sector_service.get_sectors(is_df=True)"
   ]
  },
  {
   "cell_type": "code",
   "execution_count": 3,
   "metadata": {},
   "outputs": [],
   "source": [
    "# 퀄리티\n",
    "from app.services.portfolio_services.quality_portfolio_service import (\n",
    "    QualityPortfolioService,\n",
    ")\n",
    "\n",
    "quality_protfolio_service = QualityPortfolioService(session)\n",
    "fs_list = quality_protfolio_service._get_ttm()\n",
    "fs_list_pivot = quality_protfolio_service._calc_quality(fs_list)"
   ]
  },
  {
   "cell_type": "code",
   "execution_count": 4,
   "metadata": {},
   "outputs": [],
   "source": [
    "# 밸류\n",
    "import numpy as np\n",
    "\n",
    "\n",
    "value_list.loc[value_list[\"amt\"] <= 0, \"amt\"] = np.nan\n",
    "value_pivot = value_list.pivot(index=\"itemCd\", columns=\"metrics\", values=\"amt\")"
   ]
  },
  {
   "cell_type": "code",
   "execution_count": 5,
   "metadata": {},
   "outputs": [],
   "source": [
    "# 모멘텀\n",
    "import pandas as pd\n",
    "import statsmodels.api as sm\n",
    "\n",
    "price_pivot = price_list.pivot(index=\"baseDt\", columns=\"itemCd\", values=\"closePrice\")\n",
    "ret_list = pd.DataFrame(\n",
    "    data=(price_pivot.iloc[-1] / price_pivot.iloc[0]) - 1, columns=[\"12M\"]\n",
    ")\n",
    "\n",
    "\n",
    "# 종목별 일간 수익률 계산\n",
    "ret = price_pivot.pct_change().iloc[1:]\n",
    "# 로그 누적 수익률\n",
    "ret_cum = np.log(1 + ret).cumsum()\n",
    "\n",
    "x = np.array(range(len(ret)))\n",
    "k_ratio = {}  # 전종목 K-Ratio\n",
    "\n",
    "for i in range(0, len(ticker_list)):\n",
    "    ticker = ticker_list.loc[i, \"itemCd\"]\n",
    "    try:\n",
    "        y = ret_cum.loc[:, price_pivot.columns == ticker]\n",
    "        # 선형회귀분석\n",
    "        reg = sm.OLS(y, x).fit()\n",
    "        res = float((reg.params / reg.bse).iloc[0])\n",
    "    except:\n",
    "        res = np.nan\n",
    "    k_ratio[ticker] = res\n",
    "\n",
    "k_radio_bind = pd.DataFrame.from_dict(k_ratio, orient=\"index\").reset_index()\n",
    "k_radio_bind.columns = [\"itemCd\", \"k_ratio\"]"
   ]
  },
  {
   "cell_type": "code",
   "execution_count": 6,
   "metadata": {},
   "outputs": [],
   "source": [
    "# 퀄리티, 밸류, 모멘텀 데이터 합치기\n",
    "data_bind = (\n",
    "    ticker_list[[\"itemCd\", \"itemNm\"]]\n",
    "    .merge(\n",
    "        sector_list[[\"cmpCd\", \"secNmKor\"]],\n",
    "        how=\"left\",\n",
    "        left_on=\"itemCd\",\n",
    "        right_on=\"cmpCd\",\n",
    "    )\n",
    "    .merge(fs_list_pivot[[\"ROE\", \"GPA\", \"CFO\"]], how=\"left\", on=\"itemCd\")\n",
    "    .merge(value_pivot, how=\"left\", on=\"itemCd\")\n",
    "    .merge(ret_list, how=\"left\", on=\"itemCd\")\n",
    "    .merge(k_radio_bind, how=\"left\", on=\"itemCd\")\n",
    ")\n",
    "\n",
    "data_bind.loc[data_bind[\"secNmKor\"].isnull(), \"secNmKor\"] = \"기타\"\n",
    "data_bind = data_bind.drop([\"cmpCd\"], axis=1)"
   ]
  },
  {
   "cell_type": "code",
   "execution_count": 7,
   "metadata": {},
   "outputs": [],
   "source": [
    "from scipy.stats import zscore\n",
    "\n",
    "\n",
    "def col_clean(df, cutoff=0.01, asc=False):\n",
    "\n",
    "    q_low = df.quantile(cutoff)\n",
    "    q_hi = df.quantile(1 - cutoff)\n",
    "\n",
    "    df_trim = df[(df > q_low) & (df < q_hi)]\n",
    "\n",
    "    df_z_score = df_trim.rank(axis=0, ascending=asc).apply(zscore, nan_policy=\"omit\")\n",
    "\n",
    "    return df_z_score"
   ]
  },
  {
   "cell_type": "code",
   "execution_count": 8,
   "metadata": {},
   "outputs": [],
   "source": [
    "# 섹터 별 그룹 묶기( 섹터별로 그룹이 묶인 부분에 함수를 적용하면 섹터중립화, 트림(극단치 제거), 랭킹의 z-score계산)\n",
    "data_bind_group = data_bind.set_index([\"itemCd\", \"secNmKor\"]).groupby(\n",
    "    \"secNmKor\", as_index=False\n",
    ")\n",
    "\n",
    "# 퀄리티(섹터 중립화된 수익성 순위의 Z-Score)\n",
    "z_quality = (\n",
    "    data_bind_group[[\"ROE\", \"GPA\", \"CFO\"]]\n",
    "    .apply(lambda x: col_clean(x, 0.01, False))\n",
    "    .sum(axis=1, skipna=False)\n",
    "    .to_frame(\"z_quality\")\n",
    ")\n",
    "\n",
    "data_bind = data_bind.merge(z_quality, how=\"left\", on=[\"itemCd\", \"secNmKor\"])"
   ]
  },
  {
   "cell_type": "code",
   "execution_count": 9,
   "metadata": {},
   "outputs": [],
   "source": [
    "# 벨류\n",
    "\n",
    "# PBR, PCR,PER,PSR은 오름차순\n",
    "value_1 = data_bind_group[[\"PBR\", \"PCR\", \"PER\", \"PSR\"]].apply(\n",
    "    lambda x: col_clean(x, 0.01, True)\n",
    ")\n",
    "# DY는 내림차순\n",
    "value_2 = data_bind_group[[\"DY\"]].apply(lambda x: col_clean(x, 0.01, False))\n",
    "\n",
    "z_value = (\n",
    "    value_1.merge(value_2, on=[\"itemCd\", \"secNmKor\"])\n",
    "    .sum(axis=1, skipna=False)\n",
    "    .to_frame(\"z_value\")\n",
    ")\n",
    "data_bind = data_bind.merge(z_value, how=\"left\", on=[\"itemCd\", \"secNmKor\"])"
   ]
  },
  {
   "cell_type": "code",
   "execution_count": 10,
   "metadata": {},
   "outputs": [],
   "source": [
    "# 모멘텀\n",
    "z_momentum = (\n",
    "    data_bind_group[[\"12M\", \"k_ratio\"]]\n",
    "    .apply(lambda x: col_clean(x, 0.01, False))\n",
    "    .sum(axis=1, skipna=False)\n",
    "    .to_frame(\"z_momentum\")\n",
    ")\n",
    "data_bind = data_bind.merge(z_momentum, how=\"left\", on=[\"itemCd\", \"secNmKor\"])"
   ]
  },
  {
   "cell_type": "code",
   "execution_count": 11,
   "metadata": {},
   "outputs": [
    {
     "data": {
      "image/png": "[encoded data removed]",
      "text/plain": [
       "<Figure size 1000x600 with 3 Axes>"
      ]
     },
     "metadata": {},
     "output_type": "display_data"
    }
   ],
   "source": [
    "# 세개의 Z-Score 를 단순하게 합하면 안된다.\n",
    "# 퀄리티 지표는 3개, 밸류는 5개 모멘텀은 2개를 이용하여 계산\n",
    "# 지표를 많이 쓸수록 합이 많아지므로 Z-score가 넓게 퍼진다.\n",
    "\n",
    "import matplotlib.pyplot as plt\n",
    "\n",
    "\n",
    "# 분포 시각화\n",
    "data_z = data_bind[[\"z_quality\", \"z_value\", \"z_momentum\"]].copy()\n",
    "\n",
    "plt.rc(\"axes\", unicode_minus=False)\n",
    "fig, axes = plt.subplots(3, 1, figsize=(10, 6), sharex=True, sharey=True)\n",
    "for n, ax in enumerate(axes.flatten()):\n",
    "    ax.hist(data_z.iloc[:, n])\n",
    "    ax.set_title(data_z.columns[n], size=12)\n",
    "fig.tight_layout()"
   ]
  },
  {
   "cell_type": "code",
   "execution_count": 12,
   "metadata": {},
   "outputs": [],
   "source": [
    "# 다시 z-score를 계산하여 분포를 비슷하게 맞춰준다.\n",
    "# 분포를 완벽하게 맞추기위해 z-score를 몇번을 돌리기도 하는데 그럴필요는 없음\n",
    "data_bind_final = (\n",
    "    data_bind[[\"itemCd\", \"z_quality\", \"z_value\", \"z_momentum\"]]\n",
    "    .set_index(\"itemCd\")\n",
    "    .apply(zscore, nan_policy=\"omit\")\n",
    ")\n",
    "data_bind_final.columns = [\"quality\", \"value\", \"momentum\"]"
   ]
  },
  {
   "cell_type": "code",
   "execution_count": 13,
   "metadata": {},
   "outputs": [
    {
     "data": {
      "image/png": "[encoded data removed]",
      "text/plain": [
       "<Figure size 1000x600 with 3 Axes>"
      ]
     },
     "metadata": {},
     "output_type": "display_data"
    }
   ],
   "source": [
    "plt.rc(\"axes\", unicode_minus=False)\n",
    "fig, axes = plt.subplots(3, 1, figsize=(10, 6), sharex=True, sharey=True)\n",
    "for n, ax in enumerate(axes.flatten()):\n",
    "    ax.hist(data_bind_final.iloc[:, n])\n",
    "    ax.set_title(data_bind_final.columns[n], size=12)\n",
    "fig.tight_layout()"
   ]
  },
  {
   "cell_type": "code",
   "execution_count": 14,
   "metadata": {},
   "outputs": [],
   "source": [
    "# 최종포트폴리오\n",
    "wts = [0.3, 0.3, 0.3]  # 동일비중\n",
    "# 비중 곱해서 해응로 더하기\n",
    "data_bind_final_sum = (data_bind_final * wts).sum(axis=1, skipna=False).to_frame()\n",
    "# 컬럼명 변경\n",
    "data_bind_final_sum.columns = [\"qvm\"]\n",
    "port_qvm = data_bind.merge(data_bind_final_sum, on=\"itemCd\")\n",
    "# 20위 이내는 Y 아니면 N\n",
    "port_qvm[\"invest\"] = np.where(port_qvm[\"qvm\"].rank() <= 20, \"Y\", \"N\")"
   ]
  },
  {
   "cell_type": "code",
   "execution_count": null,
   "metadata": {},
   "outputs": [],
   "source": [
    "# 최근 적자기업 제외, 매출증가 등 다양한 전략을 추가할 수 도 있음.\n",
    "\n",
    "port_qvm[port_qvm[\"invest\"] == \"Y\"][\"itemCd\"].to_excel(\"model.xlsx\", index=False)"
   ]
  }
 ],
 "metadata": {
  "kernelspec": {
   "display_name": "env",
   "language": "python",
   "name": "python3"
  },
  "language_info": {
   "codemirror_mode": {
    "name": "ipython",
    "version": 3
   },
   "file_extension": ".py",
   "mimetype": "text/x-python",
   "name": "python",
   "nbconvert_exporter": "python",
   "pygments_lexer": "ipython3",
   "version": "3.12.6"
  }
 },
 "nbformat": 4,
 "nbformat_minor": 2
}
